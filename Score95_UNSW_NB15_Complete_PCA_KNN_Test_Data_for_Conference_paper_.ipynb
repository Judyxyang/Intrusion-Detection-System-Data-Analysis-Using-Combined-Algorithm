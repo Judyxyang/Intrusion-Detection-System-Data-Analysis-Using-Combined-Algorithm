{
  "nbformat": 4,
  "nbformat_minor": 5,
  "metadata": {
    "kernelspec": {
      "display_name": "Python 3",
      "language": "python",
      "name": "python3"
    },
    "language_info": {
      "codemirror_mode": {
        "name": "ipython",
        "version": 3
      },
      "file_extension": ".py",
      "mimetype": "text/x-python",
      "name": "python",
      "nbconvert_exporter": "python",
      "pygments_lexer": "ipython3",
      "version": "3.7.10"
    },
    "colab": {
      "name": "Score95_UNSW-NB15 Complete PCA KNN Test Data for Conference paper .ipynb",
      "provenance": [],
      "collapsed_sections": [
        "2a020fc8"
      ],
      "toc_visible": true,
      "include_colab_link": true
    }
  },
  "cells": [
    {
      "cell_type": "markdown",
      "metadata": {
        "id": "view-in-github",
        "colab_type": "text"
      },
      "source": [
        "<a href=\"https://colab.research.google.com/github/Judyxyang/Intrusion-Detection-System-Data-Analysis-Using-Combined-Algorithm/blob/main/Score95_UNSW_NB15_Complete_PCA_KNN_Test_Data_for_Conference_paper_.ipynb\" target=\"_parent\"><img src=\"https://colab.research.google.com/assets/colab-badge.svg\" alt=\"Open In Colab\"/></a>"
      ]
    },
    {
      "cell_type": "code",
      "metadata": {
        "colab": {
          "base_uri": "https://localhost:8080/"
        },
        "id": "1a138282",
        "outputId": "19b6187b-5c5a-422c-cd5d-cec2b3eae494"
      },
      "source": [
        "from sklearn.datasets import load_boston\n",
        "from mlxtend.feature_selection import SequentialFeatureSelector as SFS\n",
        "from sklearn.linear_model import LinearRegression\n",
        "import pandas as pd\n",
        "import numpy as np\n",
        "%matplotlib inline\n",
        "import matplotlib.pyplot as plt"
      ],
      "id": "1a138282",
      "execution_count": null,
      "outputs": [
        {
          "output_type": "stream",
          "text": [
            "/usr/local/lib/python3.7/dist-packages/sklearn/externals/joblib/__init__.py:15: FutureWarning: sklearn.externals.joblib is deprecated in 0.21 and will be removed in 0.23. Please import this functionality directly from joblib, which can be installed with: pip install joblib. If this warning is raised when loading pickled models, you may need to re-serialize those models with scikit-learn 0.21+.\n",
            "  warnings.warn(msg, category=FutureWarning)\n"
          ],
          "name": "stderr"
        }
      ]
    },
    {
      "cell_type": "code",
      "metadata": {
        "id": "-jCEk5i5DjtA"
      },
      "source": [
        "from pandas.plotting import scatter_matrix\n",
        "from google.colab import files\n",
        "uploaded=files.upload\n"
      ],
      "id": "-jCEk5i5DjtA",
      "execution_count": null,
      "outputs": []
    },
    {
      "cell_type": "code",
      "metadata": {
        "colab": {
          "base_uri": "https://localhost:8080/"
        },
        "id": "bS3wXfrIDsPW",
        "outputId": "4583aeab-8c20-4c6a-8c2a-31e883564419"
      },
      "source": [
        "from google.colab import drive\n",
        "drive.mount('/content/gdrive')"
      ],
      "id": "bS3wXfrIDsPW",
      "execution_count": null,
      "outputs": [
        {
          "output_type": "stream",
          "text": [
            "Mounted at /content/gdrive\n"
          ],
          "name": "stdout"
        }
      ]
    },
    {
      "cell_type": "code",
      "metadata": {
        "colab": {
          "base_uri": "https://localhost:8080/"
        },
        "id": "DfwPVSDMEA-Y",
        "outputId": "335d2cd8-4554-4830-8fcd-adf254f02cf9"
      },
      "source": [
        "!ls '/content/gdrive/MyDrive/ConferenceGriffith'"
      ],
      "id": "DfwPVSDMEA-Y",
      "execution_count": null,
      "outputs": [
        {
          "output_type": "stream",
          "text": [
            "'35 Feature Importance List .csv'\n",
            "'Complete coding for Conference_KNN_10052021.ipynb'\n",
            "'Complete coding for Conference_KNN_12052021.ipynb'\n",
            "'download (1).png'\n",
            "'download (2).png'\n",
            " download.png\n",
            "'Processed Complete PCA and Anormal &Normal PCA12052021.ipynb'\n",
            "'Processed UNSW-NB15_PCA_Normal_Anormal Analysis_12052021.ipynb'\n",
            "'Score95_UNSW-NB15 Complete PCA KNN Test Data for Conference paper .ipynb'\n",
            "'UNSW-NB15-1.csv-Complete Data Preprocessing to PCA _13052021.ipynb'\n",
            " UNSW-NB15_1NN_30Fnew.csv\n",
            " UNSW-NB15_1NN_30F_OneHot_targets.csv\n",
            " UNSW-NB15_1NN_35F_OneHot.csv\n",
            " UNSW-NB15_1NN_35F_OneHot_targets.csv\n",
            " UNSW-NB15_1NN_40F_OneHot.csv\n",
            " UNSW-NB15_1NN_41F.csv\n",
            " UNSW-NB15_1NN_50F_OneHote.csv\n",
            " UNSW-NB15_1NN_50_OneHot.csv\n",
            " UNSW-NB15_30F_Anormal_Hotcode.csv\n",
            " UNSW-NB15_30F_Normal_Hotcode.csv\n",
            " UNSW-NB15_30F_X_1_OneHot.csv\n",
            " UNSW-NB15_40F_Anormal_Hotcode.csv\n",
            " UNSW-NB15_40F_Normal_Hotcode.csv\n",
            " UNSW-NB15_Anomral_30F_OneHot_targets.csv\n",
            " UNSW-NB15_Anormal.csv\n",
            " UNSW-NB15_Anormal_OneHot.csv\n",
            " UNSW-NB15_Nomral_30F_OneHot_targets.csv\n",
            " UNSW-NB15_Normal.csv\n",
            " UNSW-NB15_Normal_OneHot.csv\n"
          ],
          "name": "stdout"
        }
      ]
    },
    {
      "cell_type": "code",
      "metadata": {
        "id": "db02706b"
      },
      "source": [
        "# load sklearn dataset\n",
        "data=pd.read_csv('/content/gdrive/MyDrive/ConferenceGriffith/UNSW-NB15_1NN_50F_OneHote.csv', low_memory=False)"
      ],
      "id": "db02706b",
      "execution_count": null,
      "outputs": []
    },
    {
      "cell_type": "code",
      "metadata": {
        "id": "44492a4d",
        "outputId": "ab45b576-68e8-4590-9b5a-f2c4be410d2b"
      },
      "source": [
        "data.head()"
      ],
      "id": "44492a4d",
      "execution_count": null,
      "outputs": [
        {
          "output_type": "execute_result",
          "data": {
            "text/html": [
              "<div>\n",
              "<style scoped>\n",
              "    .dataframe tbody tr th:only-of-type {\n",
              "        vertical-align: middle;\n",
              "    }\n",
              "\n",
              "    .dataframe tbody tr th {\n",
              "        vertical-align: top;\n",
              "    }\n",
              "\n",
              "    .dataframe thead th {\n",
              "        text-align: right;\n",
              "    }\n",
              "</style>\n",
              "<table border=\"1\" class=\"dataframe\">\n",
              "  <thead>\n",
              "    <tr style=\"text-align: right;\">\n",
              "      <th></th>\n",
              "      <th>Unnamed: 0</th>\n",
              "      <th>dur</th>\n",
              "      <th>sbytes</th>\n",
              "      <th>dbytes</th>\n",
              "      <th>sttl</th>\n",
              "      <th>dttl</th>\n",
              "      <th>sloss</th>\n",
              "      <th>dloss</th>\n",
              "      <th>Sload</th>\n",
              "      <th>Dload</th>\n",
              "      <th>...</th>\n",
              "      <th>Fuzzers</th>\n",
              "      <th>Analysis</th>\n",
              "      <th>Backdoors</th>\n",
              "      <th>DoS</th>\n",
              "      <th>Exploits</th>\n",
              "      <th>Generic</th>\n",
              "      <th>Normal</th>\n",
              "      <th>Reconnaissance</th>\n",
              "      <th>Shellcode</th>\n",
              "      <th>Worms</th>\n",
              "    </tr>\n",
              "  </thead>\n",
              "  <tbody>\n",
              "    <tr>\n",
              "      <th>0</th>\n",
              "      <td>0</td>\n",
              "      <td>0.036133</td>\n",
              "      <td>528</td>\n",
              "      <td>304</td>\n",
              "      <td>31</td>\n",
              "      <td>29</td>\n",
              "      <td>0</td>\n",
              "      <td>0</td>\n",
              "      <td>87676.08594</td>\n",
              "      <td>50480.17188</td>\n",
              "      <td>...</td>\n",
              "      <td>0</td>\n",
              "      <td>0</td>\n",
              "      <td>0</td>\n",
              "      <td>0</td>\n",
              "      <td>0</td>\n",
              "      <td>0</td>\n",
              "      <td>1</td>\n",
              "      <td>0</td>\n",
              "      <td>0</td>\n",
              "      <td>0</td>\n",
              "    </tr>\n",
              "    <tr>\n",
              "      <th>1</th>\n",
              "      <td>1</td>\n",
              "      <td>0.001119</td>\n",
              "      <td>146</td>\n",
              "      <td>178</td>\n",
              "      <td>31</td>\n",
              "      <td>29</td>\n",
              "      <td>0</td>\n",
              "      <td>0</td>\n",
              "      <td>521894.53130</td>\n",
              "      <td>636282.37500</td>\n",
              "      <td>...</td>\n",
              "      <td>0</td>\n",
              "      <td>0</td>\n",
              "      <td>0</td>\n",
              "      <td>0</td>\n",
              "      <td>0</td>\n",
              "      <td>0</td>\n",
              "      <td>1</td>\n",
              "      <td>0</td>\n",
              "      <td>0</td>\n",
              "      <td>0</td>\n",
              "    </tr>\n",
              "    <tr>\n",
              "      <th>2</th>\n",
              "      <td>2</td>\n",
              "      <td>0.001209</td>\n",
              "      <td>132</td>\n",
              "      <td>164</td>\n",
              "      <td>31</td>\n",
              "      <td>29</td>\n",
              "      <td>0</td>\n",
              "      <td>0</td>\n",
              "      <td>436724.56250</td>\n",
              "      <td>542597.18750</td>\n",
              "      <td>...</td>\n",
              "      <td>0</td>\n",
              "      <td>0</td>\n",
              "      <td>0</td>\n",
              "      <td>0</td>\n",
              "      <td>0</td>\n",
              "      <td>0</td>\n",
              "      <td>1</td>\n",
              "      <td>0</td>\n",
              "      <td>0</td>\n",
              "      <td>0</td>\n",
              "    </tr>\n",
              "    <tr>\n",
              "      <th>3</th>\n",
              "      <td>3</td>\n",
              "      <td>0.001169</td>\n",
              "      <td>146</td>\n",
              "      <td>178</td>\n",
              "      <td>31</td>\n",
              "      <td>29</td>\n",
              "      <td>0</td>\n",
              "      <td>0</td>\n",
              "      <td>499572.25000</td>\n",
              "      <td>609067.56250</td>\n",
              "      <td>...</td>\n",
              "      <td>0</td>\n",
              "      <td>0</td>\n",
              "      <td>0</td>\n",
              "      <td>0</td>\n",
              "      <td>0</td>\n",
              "      <td>0</td>\n",
              "      <td>1</td>\n",
              "      <td>0</td>\n",
              "      <td>0</td>\n",
              "      <td>0</td>\n",
              "    </tr>\n",
              "    <tr>\n",
              "      <th>4</th>\n",
              "      <td>4</td>\n",
              "      <td>0.078339</td>\n",
              "      <td>568</td>\n",
              "      <td>312</td>\n",
              "      <td>31</td>\n",
              "      <td>29</td>\n",
              "      <td>0</td>\n",
              "      <td>0</td>\n",
              "      <td>43503.23438</td>\n",
              "      <td>23896.14258</td>\n",
              "      <td>...</td>\n",
              "      <td>0</td>\n",
              "      <td>0</td>\n",
              "      <td>0</td>\n",
              "      <td>0</td>\n",
              "      <td>0</td>\n",
              "      <td>0</td>\n",
              "      <td>1</td>\n",
              "      <td>0</td>\n",
              "      <td>0</td>\n",
              "      <td>0</td>\n",
              "    </tr>\n",
              "  </tbody>\n",
              "</table>\n",
              "<p>5 rows × 51 columns</p>\n",
              "</div>"
            ],
            "text/plain": [
              "   Unnamed: 0       dur  sbytes  dbytes  sttl  dttl  sloss  dloss  \\\n",
              "0           0  0.036133     528     304    31    29      0      0   \n",
              "1           1  0.001119     146     178    31    29      0      0   \n",
              "2           2  0.001209     132     164    31    29      0      0   \n",
              "3           3  0.001169     146     178    31    29      0      0   \n",
              "4           4  0.078339     568     312    31    29      0      0   \n",
              "\n",
              "          Sload         Dload  ...   Fuzzers  Analysis  Backdoors  DoS  \\\n",
              "0   87676.08594   50480.17188  ...         0         0          0    0   \n",
              "1  521894.53130  636282.37500  ...         0         0          0    0   \n",
              "2  436724.56250  542597.18750  ...         0         0          0    0   \n",
              "3  499572.25000  609067.56250  ...         0         0          0    0   \n",
              "4   43503.23438   23896.14258  ...         0         0          0    0   \n",
              "\n",
              "   Exploits  Generic  Normal  Reconnaissance  Shellcode  Worms  \n",
              "0         0        0       1               0          0      0  \n",
              "1         0        0       1               0          0      0  \n",
              "2         0        0       1               0          0      0  \n",
              "3         0        0       1               0          0      0  \n",
              "4         0        0       1               0          0      0  \n",
              "\n",
              "[5 rows x 51 columns]"
            ]
          },
          "metadata": {
            "tags": []
          },
          "execution_count": 3
        }
      ]
    },
    {
      "cell_type": "code",
      "metadata": {
        "id": "a08ad137"
      },
      "source": [
        "data=data.drop(['Unnamed: 0'],axis=1)"
      ],
      "id": "a08ad137",
      "execution_count": null,
      "outputs": []
    },
    {
      "cell_type": "code",
      "metadata": {
        "colab": {
          "base_uri": "https://localhost:8080/"
        },
        "id": "c86a59b0",
        "outputId": "f398812c-94d0-49c4-8570-bb822adf706f"
      },
      "source": [
        "data.shape"
      ],
      "id": "c86a59b0",
      "execution_count": null,
      "outputs": [
        {
          "output_type": "execute_result",
          "data": {
            "text/plain": [
              "(700000, 50)"
            ]
          },
          "metadata": {
            "tags": []
          },
          "execution_count": 8
        }
      ]
    },
    {
      "cell_type": "code",
      "metadata": {
        "id": "ccb7a459"
      },
      "source": [
        "# Balance Dataset into Normal and Abnormal"
      ],
      "id": "ccb7a459",
      "execution_count": null,
      "outputs": []
    },
    {
      "cell_type": "code",
      "metadata": {
        "id": "6c4a2452"
      },
      "source": [
        "data_normal=data.loc[data['Normal']==1]"
      ],
      "id": "6c4a2452",
      "execution_count": null,
      "outputs": []
    },
    {
      "cell_type": "code",
      "metadata": {
        "colab": {
          "base_uri": "https://localhost:8080/"
        },
        "id": "e9b3a9ab",
        "outputId": "240426ad-cde0-4782-93c3-1d57a30490e9"
      },
      "source": [
        "data_normal.shape"
      ],
      "id": "e9b3a9ab",
      "execution_count": null,
      "outputs": [
        {
          "output_type": "execute_result",
          "data": {
            "text/plain": [
              "(677785, 50)"
            ]
          },
          "metadata": {
            "tags": []
          },
          "execution_count": 47
        }
      ]
    },
    {
      "cell_type": "code",
      "metadata": {
        "id": "973676b9"
      },
      "source": [
        "data_normal_30=pd.read_csv('/content/gdrive/MyDrive/ConferenceGriffith/UNSW-NB15_1NN_30F_OneHot_targets.csv')"
      ],
      "id": "973676b9",
      "execution_count": null,
      "outputs": []
    },
    {
      "cell_type": "code",
      "metadata": {
        "colab": {
          "base_uri": "https://localhost:8080/"
        },
        "id": "OM-1qF1yIryn",
        "outputId": "d480dcd7-a1e5-4d45-b73b-b0188fa8f451"
      },
      "source": [
        "data_normal_30.columns"
      ],
      "id": "OM-1qF1yIryn",
      "execution_count": null,
      "outputs": [
        {
          "output_type": "execute_result",
          "data": {
            "text/plain": [
              "Index(['Unnamed: 0', 'sbytes', 'dbytes', 'sttl', 'sloss', 'dloss', 'Sload',\n",
              "       'Dload', 'Spkts', 'Dpkts', 'swin', 'dwin', 'smeansz', 'dmeansz',\n",
              "       'trans_depth', 'res_bdy_len', 'Sjit', 'Djit', 'Ltime', 'Dintpkt',\n",
              "       'tcprtt', 'synack', 'is_sm_ips_ports', 'ct_flw_http_mthd',\n",
              "       'is_ftp_login', 'ct_srv_src', 'ct_srv_dst', 'ct_dst_ltm', 'ct_src_ ltm',\n",
              "       'ct_src_dport_ltm', 'ct_dst_sport_ltm', 'Normal', ' Fuzzers',\n",
              "       'Analysis', 'Backdoors', 'DoS', 'Exploits', 'Generic', 'Reconnaissance',\n",
              "       'Shellcode', 'Worms', 'Label'],\n",
              "      dtype='object')"
            ]
          },
          "metadata": {
            "tags": []
          },
          "execution_count": 285
        }
      ]
    },
    {
      "cell_type": "code",
      "metadata": {
        "id": "74dde3f3"
      },
      "source": [
        "data_anormal=data_normal_30.loc[data['Normal']==0]"
      ],
      "id": "74dde3f3",
      "execution_count": null,
      "outputs": []
    },
    {
      "cell_type": "code",
      "metadata": {
        "id": "3uBA9mPxLG6A"
      },
      "source": [
        ""
      ],
      "id": "3uBA9mPxLG6A",
      "execution_count": null,
      "outputs": []
    },
    {
      "cell_type": "code",
      "metadata": {
        "colab": {
          "base_uri": "https://localhost:8080/"
        },
        "id": "664655c3",
        "outputId": "d6c65bf2-9862-489c-eee4-f5bdbe2664cb"
      },
      "source": [
        "data_anormal.shape"
      ],
      "id": "664655c3",
      "execution_count": null,
      "outputs": [
        {
          "output_type": "execute_result",
          "data": {
            "text/plain": [
              "(22215, 42)"
            ]
          },
          "metadata": {
            "tags": []
          },
          "execution_count": 67
        }
      ]
    },
    {
      "cell_type": "code",
      "metadata": {
        "colab": {
          "base_uri": "https://localhost:8080/"
        },
        "id": "01815b2c",
        "outputId": "ed678400-72ec-4094-95a2-0f9279e4a5c5"
      },
      "source": [
        "data_anormal.columns"
      ],
      "id": "01815b2c",
      "execution_count": null,
      "outputs": [
        {
          "output_type": "execute_result",
          "data": {
            "text/plain": [
              "Index(['Unnamed: 0', 'sbytes', 'dbytes', 'sttl', 'sloss', 'dloss', 'Sload',\n",
              "       'Dload', 'Spkts', 'Dpkts', 'swin', 'dwin', 'smeansz', 'dmeansz',\n",
              "       'trans_depth', 'res_bdy_len', 'Sjit', 'Djit', 'Ltime', 'Dintpkt',\n",
              "       'tcprtt', 'synack', 'is_sm_ips_ports', 'ct_flw_http_mthd',\n",
              "       'is_ftp_login', 'ct_srv_src', 'ct_srv_dst', 'ct_dst_ltm', 'ct_src_ ltm',\n",
              "       'ct_src_dport_ltm', 'ct_dst_sport_ltm', 'Normal', ' Fuzzers',\n",
              "       'Analysis', 'Backdoors', 'DoS', 'Exploits', 'Generic', 'Reconnaissance',\n",
              "       'Shellcode', 'Worms', 'Label'],\n",
              "      dtype='object')"
            ]
          },
          "metadata": {
            "tags": []
          },
          "execution_count": 68
        }
      ]
    },
    {
      "cell_type": "code",
      "metadata": {
        "id": "a74a9497"
      },
      "source": [
        "data_anormal=data_anormal.to_csv('/content/gdrive/MyDrive/ConferenceGriffith/UNSW-NB15_1NN_30F_Anormalwith10targets_OneHot.csv')"
      ],
      "id": "a74a9497",
      "execution_count": null,
      "outputs": []
    },
    {
      "cell_type": "markdown",
      "metadata": {
        "id": "1c4836ac"
      },
      "source": [
        "# 30 Features Split X, y"
      ],
      "id": "1c4836ac"
    },
    {
      "cell_type": "code",
      "metadata": {
        "colab": {
          "base_uri": "https://localhost:8080/"
        },
        "id": "p-HLueA9KQsO",
        "outputId": "9abee99c-4e2d-41cd-b045-7b20d8feeb9c"
      },
      "source": [
        "data_normal_30.shape"
      ],
      "id": "p-HLueA9KQsO",
      "execution_count": null,
      "outputs": [
        {
          "output_type": "execute_result",
          "data": {
            "text/plain": [
              "(700000, 42)"
            ]
          },
          "metadata": {
            "tags": []
          },
          "execution_count": 81
        }
      ]
    },
    {
      "cell_type": "code",
      "metadata": {
        "id": "c82c2b0f"
      },
      "source": [
        "#Select the first 30 columns as features \n",
        "X_1=data_normal_30.iloc[:,1:31]\n",
        "#Slecte the 41-50 columns as targets \n",
        "y_1=data_normal_30.iloc[:,31:41]"
      ],
      "id": "c82c2b0f",
      "execution_count": null,
      "outputs": []
    },
    {
      "cell_type": "code",
      "metadata": {
        "colab": {
          "base_uri": "https://localhost:8080/"
        },
        "id": "338133c9",
        "outputId": "0925829f-0519-4f3b-a214-84ccf176d1d8"
      },
      "source": [
        "X_1.columns"
      ],
      "id": "338133c9",
      "execution_count": null,
      "outputs": [
        {
          "output_type": "execute_result",
          "data": {
            "text/plain": [
              "Index(['sbytes', 'dbytes', 'sttl', 'sloss', 'dloss', 'Sload', 'Dload', 'Spkts',\n",
              "       'Dpkts', 'swin', 'dwin', 'smeansz', 'dmeansz', 'trans_depth',\n",
              "       'res_bdy_len', 'Sjit', 'Djit', 'Ltime', 'Dintpkt', 'tcprtt', 'synack',\n",
              "       'is_sm_ips_ports', 'ct_flw_http_mthd', 'is_ftp_login', 'ct_srv_src',\n",
              "       'ct_srv_dst', 'ct_dst_ltm', 'ct_src_ ltm', 'ct_src_dport_ltm',\n",
              "       'ct_dst_sport_ltm'],\n",
              "      dtype='object')"
            ]
          },
          "metadata": {
            "tags": []
          },
          "execution_count": 72
        }
      ]
    },
    {
      "cell_type": "code",
      "metadata": {
        "colab": {
          "base_uri": "https://localhost:8080/"
        },
        "id": "7e263279",
        "outputId": "5aee90a9-6d4b-4502-dfcc-506df3b1541b"
      },
      "source": [
        "y_1.columns"
      ],
      "id": "7e263279",
      "execution_count": null,
      "outputs": [
        {
          "output_type": "execute_result",
          "data": {
            "text/plain": [
              "Index(['Normal', ' Fuzzers', 'Analysis', 'Backdoors', 'DoS', 'Exploits',\n",
              "       'Generic', 'Reconnaissance', 'Shellcode', 'Worms'],\n",
              "      dtype='object')"
            ]
          },
          "metadata": {
            "tags": []
          },
          "execution_count": 73
        }
      ]
    },
    {
      "cell_type": "markdown",
      "metadata": {
        "id": "2373b389"
      },
      "source": [
        "# Load Anormal Dataset"
      ],
      "id": "2373b389"
    },
    {
      "cell_type": "code",
      "metadata": {
        "id": "7b33c255"
      },
      "source": [
        "data_anormal=pd.read_csv('/content/gdrive/MyDrive/ConferenceGriffith/UNSW-NB15_1NN_30F_Anormalwith10targets_OneHot.csv')"
      ],
      "id": "7b33c255",
      "execution_count": null,
      "outputs": []
    },
    {
      "cell_type": "code",
      "metadata": {
        "colab": {
          "base_uri": "https://localhost:8080/"
        },
        "id": "84c62537",
        "outputId": "ef72f615-cbf1-436f-d256-82f5824fd98c"
      },
      "source": [
        "data_anormal.columns"
      ],
      "id": "84c62537",
      "execution_count": null,
      "outputs": [
        {
          "output_type": "execute_result",
          "data": {
            "text/plain": [
              "Index(['Unnamed: 0', 'Unnamed: 0.1', 'sbytes', 'dbytes', 'sttl', 'sloss',\n",
              "       'dloss', 'Sload', 'Dload', 'Spkts', 'Dpkts', 'swin', 'dwin', 'smeansz',\n",
              "       'dmeansz', 'trans_depth', 'res_bdy_len', 'Sjit', 'Djit', 'Ltime',\n",
              "       'Dintpkt', 'tcprtt', 'synack', 'is_sm_ips_ports', 'ct_flw_http_mthd',\n",
              "       'is_ftp_login', 'ct_srv_src', 'ct_srv_dst', 'ct_dst_ltm', 'ct_src_ ltm',\n",
              "       'ct_src_dport_ltm', 'ct_dst_sport_ltm', 'Normal', ' Fuzzers',\n",
              "       'Analysis', 'Backdoors', 'DoS', 'Exploits', 'Generic', 'Reconnaissance',\n",
              "       'Shellcode', 'Worms', 'Label'],\n",
              "      dtype='object')"
            ]
          },
          "metadata": {
            "tags": []
          },
          "execution_count": 275
        }
      ]
    },
    {
      "cell_type": "code",
      "metadata": {
        "id": "332fab6e"
      },
      "source": [
        "data_anormal=data_anormal.drop(['Unnamed: 0.1'],axis=1)"
      ],
      "id": "332fab6e",
      "execution_count": null,
      "outputs": []
    },
    {
      "cell_type": "code",
      "metadata": {
        "colab": {
          "base_uri": "https://localhost:8080/"
        },
        "id": "hA7SZjB3MXjD",
        "outputId": "1bd7fbcc-d821-4143-ff8e-8876db3bca35"
      },
      "source": [
        "data_anormal.shape"
      ],
      "id": "hA7SZjB3MXjD",
      "execution_count": null,
      "outputs": [
        {
          "output_type": "execute_result",
          "data": {
            "text/plain": [
              "(22215, 42)"
            ]
          },
          "metadata": {
            "tags": []
          },
          "execution_count": 277
        }
      ]
    },
    {
      "cell_type": "code",
      "metadata": {
        "id": "870a4dca"
      },
      "source": [
        "#Select the first 40 columns as features \n",
        "X_2=data_anormal.iloc[:,1:31]\n",
        "#Slecte the 41-50 columns as targets \n",
        "y_2=data_anormal.iloc[:,31:41]"
      ],
      "id": "870a4dca",
      "execution_count": null,
      "outputs": []
    },
    {
      "cell_type": "markdown",
      "metadata": {
        "id": "ZP4F9uTaNN0F"
      },
      "source": [
        "#Anomral Activity Data Split "
      ],
      "id": "ZP4F9uTaNN0F"
    },
    {
      "cell_type": "code",
      "metadata": {
        "id": "NO258OhINdUk"
      },
      "source": [
        "X_3=data_anormal.iloc[:,1:31]"
      ],
      "id": "NO258OhINdUk",
      "execution_count": null,
      "outputs": []
    },
    {
      "cell_type": "code",
      "metadata": {
        "colab": {
          "base_uri": "https://localhost:8080/"
        },
        "id": "28063519",
        "outputId": "a3f867d6-819b-4bef-f42d-9b0d7539647b"
      },
      "source": [
        "y_3=y_2=data_anormal.iloc[:,32:41]\n",
        "y_3.shape"
      ],
      "id": "28063519",
      "execution_count": null,
      "outputs": [
        {
          "output_type": "execute_result",
          "data": {
            "text/plain": [
              "(22215, 9)"
            ]
          },
          "metadata": {
            "tags": []
          },
          "execution_count": 280
        }
      ]
    },
    {
      "cell_type": "markdown",
      "metadata": {
        "id": "3eeb5503"
      },
      "source": [
        "# PCA Dimensionality Reduciton Based on # 31 Feaures\n",
        "# Normal Activity "
      ],
      "id": "3eeb5503"
    },
    {
      "cell_type": "code",
      "metadata": {
        "id": "cd55977e"
      },
      "source": [
        "# Data stadanrdisation \n",
        "import pandas as pd\n",
        "import numpy as np\n",
        "import matplotlib.pyplot as plt\n",
        "from sklearn.decomposition import PCA\n",
        "from sklearn.preprocessing import StandardScaler"
      ],
      "id": "cd55977e",
      "execution_count": null,
      "outputs": []
    },
    {
      "cell_type": "code",
      "metadata": {
        "id": "16d73c1a"
      },
      "source": [
        "X_1=np.array(X_1)\n"
      ],
      "id": "16d73c1a",
      "execution_count": null,
      "outputs": []
    },
    {
      "cell_type": "code",
      "metadata": {
        "id": "b1dd44ec"
      },
      "source": [
        "y_1=np.array(y_1)"
      ],
      "id": "b1dd44ec",
      "execution_count": null,
      "outputs": []
    },
    {
      "cell_type": "code",
      "metadata": {
        "id": "7f083bea"
      },
      "source": [
        "X_2=np.array(X_2)\n"
      ],
      "id": "7f083bea",
      "execution_count": null,
      "outputs": []
    },
    {
      "cell_type": "code",
      "metadata": {
        "id": "4806416e"
      },
      "source": [
        "y_2=np.array(y_2)"
      ],
      "id": "4806416e",
      "execution_count": null,
      "outputs": []
    },
    {
      "cell_type": "code",
      "metadata": {
        "id": "HlviHYNpNyZl"
      },
      "source": [
        "X_3=np.array(X_3)\n"
      ],
      "id": "HlviHYNpNyZl",
      "execution_count": null,
      "outputs": []
    },
    {
      "cell_type": "code",
      "metadata": {
        "id": "HIR9LAKlNzKP"
      },
      "source": [
        "y_3=np.array(y_3)"
      ],
      "id": "HIR9LAKlNzKP",
      "execution_count": null,
      "outputs": []
    },
    {
      "cell_type": "code",
      "metadata": {
        "colab": {
          "base_uri": "https://localhost:8080/"
        },
        "id": "7c7a4d47",
        "outputId": "83c16dc6-2480-4731-8228-fd4c482742d6"
      },
      "source": [
        "#Standardizing the features\n",
        "X_1=StandardScaler().fit_transform(X_1)\n"
      ],
      "id": "7c7a4d47",
      "execution_count": null,
      "outputs": [
        {
          "output_type": "execute_result",
          "data": {
            "text/plain": [
              "array([[-0.09981682, -0.25813506, -0.18786077, ..., -0.39826458,\n",
              "        -0.36637065, -0.28184276],\n",
              "       [-0.10832487, -0.25881229, -0.18786077, ..., -0.63694707,\n",
              "         0.16808801, -0.28184276],\n",
              "       [-0.10863668, -0.25888754, -0.18786077, ..., -0.87562956,\n",
              "        -0.36637065, -0.28184276],\n",
              "       ...,\n",
              "       [-0.06351286, -0.24652538, -0.18786077, ...,  0.55646538,\n",
              "         0.16808801, -0.28184276],\n",
              "       [-0.09892593, -0.25813506, -0.18786077, ...,  0.0791004 ,\n",
              "        -0.36637065, -0.28184276],\n",
              "       [-0.01718633,  0.06695753, -0.18786077, ...,  0.55646538,\n",
              "        -0.36637065, -0.28184276]])"
            ]
          },
          "metadata": {
            "tags": []
          },
          "execution_count": 93
        }
      ]
    },
    {
      "cell_type": "code",
      "metadata": {
        "colab": {
          "base_uri": "https://localhost:8080/"
        },
        "id": "f3e31ee1",
        "outputId": "5be47d8c-5c6d-4d7c-b844-3ace1b69a91e"
      },
      "source": [
        "X_2=StandardScaler().fit_transform(X_2)\n"
      ],
      "id": "f3e31ee1",
      "execution_count": null,
      "outputs": [
        {
          "output_type": "execute_result",
          "data": {
            "text/plain": [
              "array([[-0.05116214, -0.05839909,  0.43468868, ..., -0.94960919,\n",
              "        -0.79592034, -0.75735414],\n",
              "       [-0.05037428,  0.09388357, -2.2866647 , ..., -0.94960919,\n",
              "        -0.79592034, -0.75735414],\n",
              "       [-0.04853316, -0.05680189,  0.43468868, ..., -0.94960919,\n",
              "        -0.79592034, -0.75735414],\n",
              "       ...,\n",
              "       [-0.04950348, -0.05469215,  0.43468868, ..., -0.58505654,\n",
              "        -0.34948873, -0.75735414],\n",
              "       [-0.05223198, -0.05628936,  0.43468868, ..., -0.58505654,\n",
              "        -0.34948873, -0.75735414],\n",
              "       [-0.05190025, -0.05680189,  0.43468868, ..., -0.22050389,\n",
              "         0.09694288, -0.75735414]])"
            ]
          },
          "metadata": {
            "tags": []
          },
          "execution_count": 94
        }
      ]
    },
    {
      "cell_type": "code",
      "metadata": {
        "id": "dd93b508"
      },
      "source": [
        "# Normal Activity Data PCA Dimensionality Reduction "
      ],
      "id": "dd93b508",
      "execution_count": null,
      "outputs": []
    },
    {
      "cell_type": "code",
      "metadata": {
        "colab": {
          "base_uri": "https://localhost:8080/"
        },
        "id": "6c37caaf",
        "outputId": "54cf0173-95cf-41ac-aa86-ce55aba07f85"
      },
      "source": [
        "#29 Features \n",
        "pca = PCA(n_components=29)\n",
        "principalComponents_normal_29 = pca.fit_transform(X_1)\n",
        "pca.explained_variance_ratio_"
      ],
      "id": "6c37caaf",
      "execution_count": null,
      "outputs": [
        {
          "output_type": "execute_result",
          "data": {
            "text/plain": [
              "array([1.81616171e-01, 1.11659162e-01, 8.05736049e-02, 7.94319263e-02,\n",
              "       7.40044653e-02, 6.76953770e-02, 4.43425538e-02, 4.18501853e-02,\n",
              "       3.77008630e-02, 3.42369905e-02, 3.29365484e-02, 3.11463362e-02,\n",
              "       2.86867014e-02, 2.27292645e-02, 2.22981214e-02, 1.86652851e-02,\n",
              "       1.82146606e-02, 1.49169536e-02, 1.37414790e-02, 1.27611207e-02,\n",
              "       8.30822308e-03, 6.53104150e-03, 5.75992469e-03, 5.40703839e-03,\n",
              "       2.62217766e-03, 1.79000802e-03, 2.23638226e-04, 8.34456540e-05,\n",
              "       5.30869504e-05])"
            ]
          },
          "metadata": {
            "tags": []
          },
          "execution_count": 96
        }
      ]
    },
    {
      "cell_type": "code",
      "metadata": {
        "colab": {
          "base_uri": "https://localhost:8080/",
          "height": 295
        },
        "id": "b90ce15f",
        "outputId": "ebf8c853-6c2b-4be8-dd4b-65e93480d61c"
      },
      "source": [
        "importance = pca.explained_variance_ratio_\n",
        "plt.scatter(range(1,30),importance)\n",
        "plt.plot(range(1,30),importance)\n",
        "plt.title('Scree Plot')\n",
        "plt.xlabel('Factors')\n",
        "plt.ylabel('Eigenvalue')\n",
        "plt.grid()\n",
        "plt.show()"
      ],
      "id": "b90ce15f",
      "execution_count": null,
      "outputs": [
        {
          "output_type": "display_data",
          "data": {
            "image/png": "[encoded data removed]",
            "text/plain": [
              "<Figure size 432x288 with 1 Axes>"
            ]
          },
          "metadata": {
            "tags": [],
            "needs_background": "light"
          }
        }
      ]
    },
    {
      "cell_type": "code",
      "metadata": {
        "colab": {
          "base_uri": "https://localhost:8080/",
          "height": 296
        },
        "id": "d2f67d76",
        "outputId": "53d8823f-759b-414b-9075-0fa83c0edef7"
      },
      "source": [
        "plt.plot(np.cumsum(pca.explained_variance_ratio_))\n",
        "plt.xlabel('number of components')\n",
        "plt.ylabel('cumlative explained variance')"
      ],
      "id": "d2f67d76",
      "execution_count": null,
      "outputs": [
        {
          "output_type": "execute_result",
          "data": {
            "text/plain": [
              "Text(0, 0.5, 'cumlative explained variance')"
            ]
          },
          "metadata": {
            "tags": []
          },
          "execution_count": 98
        },
        {
          "output_type": "display_data",
          "data": {
            "image/png": "[encoded data removed]",
            "text/plain": [
              "<Figure size 432x288 with 1 Axes>"
            ]
          },
          "metadata": {
            "tags": [],
            "needs_background": "light"
          }
        }
      ]
    },
    {
      "cell_type": "code",
      "metadata": {
        "colab": {
          "base_uri": "https://localhost:8080/"
        },
        "id": "80d35dd2",
        "outputId": "915f58b7-44d9-4ded-83fc-eb21b6e252dd"
      },
      "source": [
        "a=np.cumsum(pca.explained_variance_ratio_)\n",
        "a"
      ],
      "id": "80d35dd2",
      "execution_count": null,
      "outputs": [
        {
          "output_type": "execute_result",
          "data": {
            "text/plain": [
              "array([0.18161617, 0.29327533, 0.37384894, 0.45328087, 0.52728533,\n",
              "       0.59498071, 0.63932326, 0.68117345, 0.71887431, 0.7531113 ,\n",
              "       0.78604785, 0.81719418, 0.84588089, 0.86861015, 0.89090827,\n",
              "       0.90957356, 0.92778822, 0.94270517, 0.95644665, 0.96920777,\n",
              "       0.97751599, 0.98404704, 0.98980696, 0.995214  , 0.99783618,\n",
              "       0.99962618, 0.99984982, 0.99993327, 0.99998636])"
            ]
          },
          "metadata": {
            "tags": []
          },
          "execution_count": 99
        }
      ]
    },
    {
      "cell_type": "code",
      "metadata": {
        "id": "e537857b"
      },
      "source": [
        "# Feature 19"
      ],
      "id": "e537857b",
      "execution_count": null,
      "outputs": []
    },
    {
      "cell_type": "code",
      "metadata": {
        "colab": {
          "base_uri": "https://localhost:8080/"
        },
        "id": "1be14787",
        "outputId": "34d421da-442b-448e-b7a2-777b4ed2c8a4"
      },
      "source": [
        "pca = PCA(n_components=19)\n",
        "principalComponents_normal_19 = pca.fit_transform(X_1)\n",
        "pca.explained_variance_ratio_"
      ],
      "id": "1be14787",
      "execution_count": null,
      "outputs": [
        {
          "output_type": "execute_result",
          "data": {
            "text/plain": [
              "array([0.18161617, 0.11165916, 0.0805736 , 0.07943193, 0.07400447,\n",
              "       0.06769538, 0.04434255, 0.04185019, 0.03770086, 0.03423699,\n",
              "       0.03293655, 0.03114634, 0.0286867 , 0.02272926, 0.02229812,\n",
              "       0.01866529, 0.01821466, 0.01491695, 0.01374148])"
            ]
          },
          "metadata": {
            "tags": []
          },
          "execution_count": 222
        }
      ]
    },
    {
      "cell_type": "code",
      "metadata": {
        "colab": {
          "base_uri": "https://localhost:8080/",
          "height": 295
        },
        "id": "d9fd22dc",
        "outputId": "63832401-2011-4c84-ba93-e52426ea5744"
      },
      "source": [
        "importance = pca.explained_variance_ratio_\n",
        "plt.scatter(range(1,20),importance)\n",
        "plt.plot(range(1,20),importance)\n",
        "plt.title('Scree Plot')\n",
        "plt.xlabel('Factors')\n",
        "plt.ylabel('Eigenvalue')\n",
        "plt.grid()\n",
        "plt.show()"
      ],
      "id": "d9fd22dc",
      "execution_count": null,
      "outputs": [
        {
          "output_type": "display_data",
          "data": {
            "image/png": "[encoded data removed]",
            "text/plain": [
              "<Figure size 432x288 with 1 Axes>"
            ]
          },
          "metadata": {
            "tags": [],
            "needs_background": "light"
          }
        }
      ]
    },
    {
      "cell_type": "code",
      "metadata": {
        "colab": {
          "base_uri": "https://localhost:8080/",
          "height": 296
        },
        "id": "5f21a8d4",
        "outputId": "eafd1757-073b-4990-8f64-d0ae63e31188"
      },
      "source": [
        "plt.plot(np.cumsum(pca.explained_variance_ratio_))\n",
        "plt.xlabel('number of components')\n",
        "plt.ylabel('cumlative explained variance')"
      ],
      "id": "5f21a8d4",
      "execution_count": null,
      "outputs": [
        {
          "output_type": "execute_result",
          "data": {
            "text/plain": [
              "Text(0, 0.5, 'cumlative explained variance')"
            ]
          },
          "metadata": {
            "tags": []
          },
          "execution_count": 103
        },
        {
          "output_type": "display_data",
          "data": {
            "image/png": "[encoded data removed]",
            "text/plain": [
              "<Figure size 432x288 with 1 Axes>"
            ]
          },
          "metadata": {
            "tags": [],
            "needs_background": "light"
          }
        }
      ]
    },
    {
      "cell_type": "code",
      "metadata": {
        "colab": {
          "base_uri": "https://localhost:8080/"
        },
        "id": "9bf417bc",
        "outputId": "eb1bd725-2069-405a-8c43-28208e97e522"
      },
      "source": [
        "b=np.cumsum(pca.explained_variance_ratio_)\n",
        "b"
      ],
      "id": "9bf417bc",
      "execution_count": null,
      "outputs": [
        {
          "output_type": "execute_result",
          "data": {
            "text/plain": [
              "array([0.18161617, 0.29327533, 0.37384894, 0.45328087, 0.52728533,\n",
              "       0.59498071, 0.63932326, 0.68117345, 0.71887431, 0.7531113 ,\n",
              "       0.78604785, 0.81719418, 0.84588089, 0.86861015, 0.89090827,\n",
              "       0.90957356, 0.92778822, 0.94270517, 0.95644665])"
            ]
          },
          "metadata": {
            "tags": []
          },
          "execution_count": 104
        }
      ]
    },
    {
      "cell_type": "code",
      "metadata": {
        "id": "3c39b69b"
      },
      "source": [
        "# Normal Feature 15"
      ],
      "id": "3c39b69b",
      "execution_count": null,
      "outputs": []
    },
    {
      "cell_type": "code",
      "metadata": {
        "colab": {
          "base_uri": "https://localhost:8080/"
        },
        "id": "7595dd64",
        "outputId": "c6fa9df9-f639-4d55-8419-afcbdf3251be"
      },
      "source": [
        "pca = PCA(n_components=15)\n",
        "principalComponents_normal_15 = pca.fit_transform(X_1)\n",
        "pca.explained_variance_ratio_"
      ],
      "id": "7595dd64",
      "execution_count": null,
      "outputs": [
        {
          "output_type": "execute_result",
          "data": {
            "text/plain": [
              "array([0.18161617, 0.11165916, 0.0805736 , 0.07943193, 0.07400447,\n",
              "       0.06769538, 0.04434255, 0.04185019, 0.03770086, 0.03423699,\n",
              "       0.03293655, 0.03114634, 0.0286867 , 0.02272926, 0.02229812])"
            ]
          },
          "metadata": {
            "tags": []
          },
          "execution_count": 110
        }
      ]
    },
    {
      "cell_type": "code",
      "metadata": {
        "colab": {
          "base_uri": "https://localhost:8080/",
          "height": 295
        },
        "id": "03293558",
        "outputId": "e776dd08-7e93-46d7-bd46-ddb9899431be"
      },
      "source": [
        "importance = pca.explained_variance_ratio_\n",
        "plt.scatter(range(1,16),importance)\n",
        "plt.plot(range(1,16),importance)\n",
        "plt.title('Scree Plot')\n",
        "plt.xlabel('Factors')\n",
        "plt.ylabel('Eigenvalue')\n",
        "plt.grid()\n",
        "plt.show()"
      ],
      "id": "03293558",
      "execution_count": null,
      "outputs": [
        {
          "output_type": "display_data",
          "data": {
            "image/png": "[encoded data removed]",
            "text/plain": [
              "<Figure size 432x288 with 1 Axes>"
            ]
          },
          "metadata": {
            "tags": [],
            "needs_background": "light"
          }
        }
      ]
    },
    {
      "cell_type": "code",
      "metadata": {
        "colab": {
          "base_uri": "https://localhost:8080/",
          "height": 296
        },
        "id": "10575ab0",
        "outputId": "7fe6d514-b74d-4495-e12b-870e25bfe7e4"
      },
      "source": [
        "plt.plot(np.cumsum(pca.explained_variance_ratio_))\n",
        "plt.xlabel('number of components')\n",
        "plt.ylabel('cumlative explained variance')"
      ],
      "id": "10575ab0",
      "execution_count": null,
      "outputs": [
        {
          "output_type": "execute_result",
          "data": {
            "text/plain": [
              "Text(0, 0.5, 'cumlative explained variance')"
            ]
          },
          "metadata": {
            "tags": []
          },
          "execution_count": 112
        },
        {
          "output_type": "display_data",
          "data": {
            "image/png": "[encoded data removed]",
            "text/plain": [
              "<Figure size 432x288 with 1 Axes>"
            ]
          },
          "metadata": {
            "tags": [],
            "needs_background": "light"
          }
        }
      ]
    },
    {
      "cell_type": "code",
      "metadata": {
        "colab": {
          "base_uri": "https://localhost:8080/"
        },
        "id": "8b75b78d",
        "outputId": "8cfcc44d-fb4d-4ead-ba18-beeadb37250e"
      },
      "source": [
        "c=np.cumsum(pca.explained_variance_ratio_)\n",
        "c"
      ],
      "id": "8b75b78d",
      "execution_count": null,
      "outputs": [
        {
          "output_type": "execute_result",
          "data": {
            "text/plain": [
              "array([0.18161617, 0.29327533, 0.37384894, 0.45328087, 0.52728533,\n",
              "       0.59498071, 0.63932326, 0.68117345, 0.7188743 , 0.75311129,\n",
              "       0.78604783, 0.81719416])"
            ]
          },
          "metadata": {
            "tags": []
          },
          "execution_count": 117
        }
      ]
    },
    {
      "cell_type": "code",
      "metadata": {
        "id": "_HrJ2jvXOf0l"
      },
      "source": [
        "# Feature 12 "
      ],
      "id": "_HrJ2jvXOf0l",
      "execution_count": null,
      "outputs": []
    },
    {
      "cell_type": "code",
      "metadata": {
        "colab": {
          "base_uri": "https://localhost:8080/"
        },
        "id": "ONuCaOfmOgB0",
        "outputId": "1eb29b0a-946e-4c9d-c279-bf23c6c88ec7"
      },
      "source": [
        "pca = PCA(n_components=12)\n",
        "principalComponents_normal_12 = pca.fit_transform(X_1)\n",
        "pca.explained_variance_ratio_"
      ],
      "id": "ONuCaOfmOgB0",
      "execution_count": null,
      "outputs": [
        {
          "output_type": "execute_result",
          "data": {
            "text/plain": [
              "array([0.18161617, 0.11165916, 0.0805736 , 0.07943193, 0.07400447,\n",
              "       0.06769538, 0.04434255, 0.04185018, 0.03770086, 0.03423699,\n",
              "       0.03293654, 0.03114626])"
            ]
          },
          "metadata": {
            "tags": []
          },
          "execution_count": 229
        }
      ]
    },
    {
      "cell_type": "code",
      "metadata": {
        "colab": {
          "base_uri": "https://localhost:8080/",
          "height": 295
        },
        "id": "KuNcntaPOgNU",
        "outputId": "66d0367e-ffdb-450e-9d39-16190bee97ee"
      },
      "source": [
        "importance = pca.explained_variance_ratio_\n",
        "plt.scatter(range(1,13),importance)\n",
        "plt.plot(range(1,13),importance)\n",
        "plt.title('Scree Plot')\n",
        "plt.xlabel('Factors')\n",
        "plt.ylabel('Eigenvalue')\n",
        "plt.grid()\n",
        "plt.show()"
      ],
      "id": "KuNcntaPOgNU",
      "execution_count": null,
      "outputs": [
        {
          "output_type": "display_data",
          "data": {
            "image/png": "[encoded data removed]",
            "text/plain": [
              "<Figure size 432x288 with 1 Axes>"
            ]
          },
          "metadata": {
            "tags": [],
            "needs_background": "light"
          }
        }
      ]
    },
    {
      "cell_type": "code",
      "metadata": {
        "colab": {
          "base_uri": "https://localhost:8080/",
          "height": 296
        },
        "id": "WBEqFHJSOgYk",
        "outputId": "581cebc4-ad4f-4a9c-96e8-f5a910e4aa3a"
      },
      "source": [
        "plt.plot(np.cumsum(pca.explained_variance_ratio_))\n",
        "plt.xlabel('number of components')\n",
        "plt.ylabel('cumlative explained variance')"
      ],
      "id": "WBEqFHJSOgYk",
      "execution_count": null,
      "outputs": [
        {
          "output_type": "execute_result",
          "data": {
            "text/plain": [
              "Text(0, 0.5, 'cumlative explained variance')"
            ]
          },
          "metadata": {
            "tags": []
          },
          "execution_count": 120
        },
        {
          "output_type": "display_data",
          "data": {
            "image/png": "[encoded data removed]",
            "text/plain": [
              "<Figure size 432x288 with 1 Axes>"
            ]
          },
          "metadata": {
            "tags": [],
            "needs_background": "light"
          }
        }
      ]
    },
    {
      "cell_type": "code",
      "metadata": {
        "colab": {
          "base_uri": "https://localhost:8080/"
        },
        "id": "U_hg906hOgw8",
        "outputId": "fe63bc3b-aa95-47e4-f065-753baba46005"
      },
      "source": [
        "d=np.cumsum(pca.explained_variance_ratio_)\n",
        "d"
      ],
      "id": "U_hg906hOgw8",
      "execution_count": null,
      "outputs": [
        {
          "output_type": "execute_result",
          "data": {
            "text/plain": [
              "array([0.18161617, 0.29327533, 0.37384894, 0.45328087, 0.52728533,\n",
              "       0.59498071, 0.63932326, 0.68117344, 0.71887431, 0.75311129,\n",
              "       0.78604784, 0.81719416])"
            ]
          },
          "metadata": {
            "tags": []
          },
          "execution_count": 121
        }
      ]
    },
    {
      "cell_type": "code",
      "metadata": {
        "id": "10d93f93"
      },
      "source": [
        "#Normal Feature 9"
      ],
      "id": "10d93f93",
      "execution_count": null,
      "outputs": []
    },
    {
      "cell_type": "code",
      "metadata": {
        "colab": {
          "base_uri": "https://localhost:8080/"
        },
        "id": "02818828",
        "outputId": "0efb3bac-52cf-4d87-dc9f-5dfcbe857c7a"
      },
      "source": [
        "pca = PCA(n_components=9)\n",
        "principalComponents_normal_9 = pca.fit_transform(X_1)\n",
        "pca.explained_variance_ratio_"
      ],
      "id": "02818828",
      "execution_count": null,
      "outputs": [
        {
          "output_type": "execute_result",
          "data": {
            "text/plain": [
              "array([0.18161617, 0.11165916, 0.0805736 , 0.07943192, 0.07400446,\n",
              "       0.06769535, 0.04433974, 0.04185017, 0.03770055])"
            ]
          },
          "metadata": {
            "tags": []
          },
          "execution_count": 122
        }
      ]
    },
    {
      "cell_type": "code",
      "metadata": {
        "colab": {
          "base_uri": "https://localhost:8080/"
        },
        "id": "23fb8eb4",
        "outputId": "af805d45-ae66-4834-ace1-56621f0a5393"
      },
      "source": [
        "print(principalComponents_normal_9.shape)"
      ],
      "id": "23fb8eb4",
      "execution_count": null,
      "outputs": [
        {
          "output_type": "stream",
          "text": [
            "(700000, 9)\n"
          ],
          "name": "stdout"
        }
      ]
    },
    {
      "cell_type": "code",
      "metadata": {
        "colab": {
          "base_uri": "https://localhost:8080/",
          "height": 295
        },
        "id": "82828eab",
        "outputId": "a617ac70-4642-4231-e4ce-afc4069e6397"
      },
      "source": [
        "importance = pca.explained_variance_ratio_\n",
        "plt.scatter(range(1,10),importance)\n",
        "plt.plot(range(1,10),importance)\n",
        "plt.title('Scree Plot')\n",
        "plt.xlabel('Factors')\n",
        "plt.ylabel('Eigenvalue')\n",
        "plt.grid()\n",
        "plt.show()"
      ],
      "id": "82828eab",
      "execution_count": null,
      "outputs": [
        {
          "output_type": "display_data",
          "data": {
            "image/png": "[encoded data removed]",
            "text/plain": [
              "<Figure size 432x288 with 1 Axes>"
            ]
          },
          "metadata": {
            "tags": [],
            "needs_background": "light"
          }
        }
      ]
    },
    {
      "cell_type": "code",
      "metadata": {
        "colab": {
          "base_uri": "https://localhost:8080/",
          "height": 296
        },
        "id": "3353ccb6",
        "outputId": "4dab9eac-8533-4045-c526-ceb4a79089e6"
      },
      "source": [
        "plt.plot(np.cumsum(pca.explained_variance_ratio_))\n",
        "plt.xlabel('number of components')\n",
        "plt.ylabel('cumlative explained variance')"
      ],
      "id": "3353ccb6",
      "execution_count": null,
      "outputs": [
        {
          "output_type": "execute_result",
          "data": {
            "text/plain": [
              "Text(0, 0.5, 'cumlative explained variance')"
            ]
          },
          "metadata": {
            "tags": []
          },
          "execution_count": 125
        },
        {
          "output_type": "display_data",
          "data": {
            "image/png": "[encoded data removed]",
            "text/plain": [
              "<Figure size 432x288 with 1 Axes>"
            ]
          },
          "metadata": {
            "tags": [],
            "needs_background": "light"
          }
        }
      ]
    },
    {
      "cell_type": "code",
      "metadata": {
        "colab": {
          "base_uri": "https://localhost:8080/"
        },
        "id": "bfd685f9",
        "outputId": "99c3436b-115c-4d35-f3bc-fed86970346c"
      },
      "source": [
        "e=np.cumsum(pca.explained_variance_ratio_)\n",
        "e"
      ],
      "id": "bfd685f9",
      "execution_count": null,
      "outputs": [
        {
          "output_type": "execute_result",
          "data": {
            "text/plain": [
              "array([0.18161617, 0.29327533, 0.37384893, 0.45328085, 0.52728531,\n",
              "       0.59498066, 0.6393204 , 0.68117057, 0.71887113])"
            ]
          },
          "metadata": {
            "tags": []
          },
          "execution_count": 126
        }
      ]
    },
    {
      "cell_type": "markdown",
      "metadata": {
        "id": "a5aebb28"
      },
      "source": [
        "# PCA Dimensionality Reduciton Based on # 30 Feaures\n",
        "# Anormal Activity "
      ],
      "id": "a5aebb28"
    },
    {
      "cell_type": "code",
      "metadata": {
        "id": "cb5a457e"
      },
      "source": [
        "# 29 Feature "
      ],
      "id": "cb5a457e",
      "execution_count": null,
      "outputs": []
    },
    {
      "cell_type": "code",
      "metadata": {
        "colab": {
          "base_uri": "https://localhost:8080/"
        },
        "id": "514379c3",
        "outputId": "7bced634-d85f-46fd-9af4-09f862401294"
      },
      "source": [
        "pca = PCA(n_components=29)\n",
        "principalComponents_anormal_29 = pca.fit_transform(X_2)\n",
        "pca.explained_variance_ratio_"
      ],
      "id": "514379c3",
      "execution_count": null,
      "outputs": [
        {
          "output_type": "execute_result",
          "data": {
            "text/plain": [
              "array([2.69497353e-01, 1.21216362e-01, 1.03523697e-01, 8.72875661e-02,\n",
              "       6.83058827e-02, 5.46527794e-02, 4.67508561e-02, 3.98425472e-02,\n",
              "       3.51690985e-02, 3.15703487e-02, 2.88007208e-02, 2.33493010e-02,\n",
              "       1.98924034e-02, 1.75415440e-02, 1.39344418e-02, 1.05315230e-02,\n",
              "       8.39173191e-03, 6.65301020e-03, 4.66428250e-03, 2.50477417e-03,\n",
              "       1.75490242e-03, 1.38528304e-03, 1.33261519e-03, 1.17323837e-03,\n",
              "       1.67682973e-04, 4.73943591e-05, 3.65181406e-05, 1.58146345e-05,\n",
              "       6.32719214e-06])"
            ]
          },
          "metadata": {
            "tags": []
          },
          "execution_count": 127
        }
      ]
    },
    {
      "cell_type": "code",
      "metadata": {
        "colab": {
          "base_uri": "https://localhost:8080/",
          "height": 295
        },
        "id": "0e67a2ba",
        "outputId": "d91d51e5-eb3a-4b77-dd4d-3752e658af03"
      },
      "source": [
        "importance = pca.explained_variance_ratio_\n",
        "plt.scatter(range(1,30),importance)\n",
        "plt.plot(range(1,30),importance)\n",
        "plt.title('Scree Plot')\n",
        "plt.xlabel('Factors')\n",
        "plt.ylabel('Eigenvalue')\n",
        "plt.grid()\n",
        "plt.show()"
      ],
      "id": "0e67a2ba",
      "execution_count": null,
      "outputs": [
        {
          "output_type": "display_data",
          "data": {
            "image/png": "[encoded data removed]",
            "text/plain": [
              "<Figure size 432x288 with 1 Axes>"
            ]
          },
          "metadata": {
            "tags": [],
            "needs_background": "light"
          }
        }
      ]
    },
    {
      "cell_type": "code",
      "metadata": {
        "colab": {
          "base_uri": "https://localhost:8080/",
          "height": 296
        },
        "id": "1d42dc70",
        "outputId": "815e292c-eaa5-4944-e4a3-b8f5431e9216"
      },
      "source": [
        "plt.plot(np.cumsum(pca.explained_variance_ratio_))\n",
        "plt.xlabel('number of components')\n",
        "plt.ylabel('cumlative explained variance')"
      ],
      "id": "1d42dc70",
      "execution_count": null,
      "outputs": [
        {
          "output_type": "execute_result",
          "data": {
            "text/plain": [
              "Text(0, 0.5, 'cumlative explained variance')"
            ]
          },
          "metadata": {
            "tags": []
          },
          "execution_count": 129
        },
        {
          "output_type": "display_data",
          "data": {
            "image/png": "[encoded data removed]",
            "text/plain": [
              "<Figure size 432x288 with 1 Axes>"
            ]
          },
          "metadata": {
            "tags": [],
            "needs_background": "light"
          }
        }
      ]
    },
    {
      "cell_type": "code",
      "metadata": {
        "colab": {
          "base_uri": "https://localhost:8080/"
        },
        "id": "0c3c702b",
        "outputId": "1899b2bc-a471-4f4e-8677-e36370a65f8c"
      },
      "source": [
        "a_1=np.cumsum(pca.explained_variance_ratio_)\n",
        "a_1"
      ],
      "id": "0c3c702b",
      "execution_count": null,
      "outputs": [
        {
          "output_type": "execute_result",
          "data": {
            "text/plain": [
              "array([0.26949735, 0.39071372, 0.49423741, 0.58152498, 0.64983086,\n",
              "       0.70448364, 0.7512345 , 0.79107704, 0.82624614, 0.85781649,\n",
              "       0.88661721, 0.90996651, 0.92985892, 0.94740046, 0.9613349 ,\n",
              "       0.97186642, 0.98025816, 0.98691117, 0.99157545, 0.99408022,\n",
              "       0.99583513, 0.99722041, 0.99855302, 0.99972626, 0.99989395,\n",
              "       0.99994134, 0.99997786, 0.99999367, 1.        ])"
            ]
          },
          "metadata": {
            "tags": []
          },
          "execution_count": 130
        }
      ]
    },
    {
      "cell_type": "code",
      "metadata": {
        "id": "592bf4be"
      },
      "source": [
        "#Feature 19"
      ],
      "id": "592bf4be",
      "execution_count": null,
      "outputs": []
    },
    {
      "cell_type": "code",
      "metadata": {
        "colab": {
          "base_uri": "https://localhost:8080/"
        },
        "id": "a7b8ea89",
        "outputId": "5699dcf4-b931-40e2-ab24-f5fe8c54aeda"
      },
      "source": [
        "pca = PCA(n_components=19)\n",
        "principalComponents_anormal_19 = pca.fit_transform(X_2)\n",
        "pca.explained_variance_ratio_"
      ],
      "id": "a7b8ea89",
      "execution_count": null,
      "outputs": [
        {
          "output_type": "execute_result",
          "data": {
            "text/plain": [
              "array([0.26949735, 0.12121636, 0.1035237 , 0.08728757, 0.06830588,\n",
              "       0.05465278, 0.04675086, 0.03984255, 0.0351691 , 0.03157035,\n",
              "       0.02880072, 0.0233493 , 0.0198924 , 0.01754154, 0.01393444,\n",
              "       0.01053152, 0.00839173, 0.00665301, 0.00466428])"
            ]
          },
          "metadata": {
            "tags": []
          },
          "execution_count": 179
        }
      ]
    },
    {
      "cell_type": "code",
      "metadata": {
        "colab": {
          "base_uri": "https://localhost:8080/",
          "height": 295
        },
        "id": "0d268a8d",
        "outputId": "54cd0d97-756b-46e6-fa5f-5da4a1094fc9"
      },
      "source": [
        "importance = pca.explained_variance_ratio_\n",
        "plt.scatter(range(1,20),importance)\n",
        "plt.plot(range(1,20),importance)\n",
        "plt.title('Scree Plot')\n",
        "plt.xlabel('Factors')\n",
        "plt.ylabel('Eigenvalue')\n",
        "plt.grid()\n",
        "plt.show()"
      ],
      "id": "0d268a8d",
      "execution_count": null,
      "outputs": [
        {
          "output_type": "display_data",
          "data": {
            "image/png": "[encoded data removed]",
            "text/plain": [
              "<Figure size 432x288 with 1 Axes>"
            ]
          },
          "metadata": {
            "tags": [],
            "needs_background": "light"
          }
        }
      ]
    },
    {
      "cell_type": "code",
      "metadata": {
        "colab": {
          "base_uri": "https://localhost:8080/",
          "height": 296
        },
        "id": "23198fe8",
        "outputId": "1d9d73a4-6aa4-422d-c46b-795326ddef72"
      },
      "source": [
        "plt.plot(np.cumsum(pca.explained_variance_ratio_))\n",
        "plt.xlabel('number of components')\n",
        "plt.ylabel('cumlative explained variance')"
      ],
      "id": "23198fe8",
      "execution_count": null,
      "outputs": [
        {
          "output_type": "execute_result",
          "data": {
            "text/plain": [
              "Text(0, 0.5, 'cumlative explained variance')"
            ]
          },
          "metadata": {
            "tags": []
          },
          "execution_count": 133
        },
        {
          "output_type": "display_data",
          "data": {
            "image/png": "[encoded data removed]",
            "text/plain": [
              "<Figure size 432x288 with 1 Axes>"
            ]
          },
          "metadata": {
            "tags": [],
            "needs_background": "light"
          }
        }
      ]
    },
    {
      "cell_type": "code",
      "metadata": {
        "colab": {
          "base_uri": "https://localhost:8080/"
        },
        "id": "636e1b99",
        "outputId": "ccc9afb3-a64b-46e7-f513-2543d307ae2e"
      },
      "source": [
        "b_1=np.cumsum(pca.explained_variance_ratio_)\n",
        "b_1"
      ],
      "id": "636e1b99",
      "execution_count": null,
      "outputs": [
        {
          "output_type": "execute_result",
          "data": {
            "text/plain": [
              "array([0.26949735, 0.39071372, 0.49423741, 0.58152498, 0.64983086,\n",
              "       0.70448364, 0.7512345 , 0.79107704, 0.82624614, 0.85781649,\n",
              "       0.88661721, 0.90996651, 0.92985892, 0.94740046, 0.9613349 ,\n",
              "       0.97186642, 0.98025816, 0.98691117, 0.99157545])"
            ]
          },
          "metadata": {
            "tags": []
          },
          "execution_count": 134
        }
      ]
    },
    {
      "cell_type": "code",
      "metadata": {
        "id": "079e047b"
      },
      "source": [
        "#15 Feature "
      ],
      "id": "079e047b",
      "execution_count": null,
      "outputs": []
    },
    {
      "cell_type": "code",
      "metadata": {
        "colab": {
          "base_uri": "https://localhost:8080/"
        },
        "id": "80752f61",
        "outputId": "21627349-24ad-4ab2-e186-e9e5461ade8a"
      },
      "source": [
        "pca = PCA(n_components=15)\n",
        "principalComponents_anormal_15 = pca.fit_transform(X_2)\n",
        "pca.explained_variance_ratio_"
      ],
      "id": "80752f61",
      "execution_count": null,
      "outputs": [
        {
          "output_type": "execute_result",
          "data": {
            "text/plain": [
              "array([0.26949735, 0.12121636, 0.1035237 , 0.08728757, 0.06830588,\n",
              "       0.05465278, 0.04675086, 0.03984255, 0.0351691 , 0.03157035,\n",
              "       0.02880072, 0.0233493 , 0.0198924 , 0.01754154, 0.01393444])"
            ]
          },
          "metadata": {
            "tags": []
          },
          "execution_count": 135
        }
      ]
    },
    {
      "cell_type": "code",
      "metadata": {
        "colab": {
          "base_uri": "https://localhost:8080/",
          "height": 295
        },
        "id": "ca9b5035",
        "outputId": "9665978e-ee2f-45a8-b59f-92b658d9ff9a"
      },
      "source": [
        "importance = pca.explained_variance_ratio_\n",
        "plt.scatter(range(1,16),importance)\n",
        "plt.plot(range(1,16),importance)\n",
        "plt.title('Scree Plot')\n",
        "plt.xlabel('Factors')\n",
        "plt.ylabel('Eigenvalue')\n",
        "plt.grid()\n",
        "plt.show()"
      ],
      "id": "ca9b5035",
      "execution_count": null,
      "outputs": [
        {
          "output_type": "display_data",
          "data": {
            "image/png": "[encoded data removed]",
            "text/plain": [
              "<Figure size 432x288 with 1 Axes>"
            ]
          },
          "metadata": {
            "tags": [],
            "needs_background": "light"
          }
        }
      ]
    },
    {
      "cell_type": "code",
      "metadata": {
        "colab": {
          "base_uri": "https://localhost:8080/",
          "height": 296
        },
        "id": "8fd24fc3",
        "outputId": "f08031b8-5934-4fef-ad4f-7dc934dfb045"
      },
      "source": [
        "plt.plot(np.cumsum(pca.explained_variance_ratio_))\n",
        "plt.xlabel('number of components')\n",
        "plt.ylabel('cumlative explained variance')"
      ],
      "id": "8fd24fc3",
      "execution_count": null,
      "outputs": [
        {
          "output_type": "execute_result",
          "data": {
            "text/plain": [
              "Text(0, 0.5, 'cumlative explained variance')"
            ]
          },
          "metadata": {
            "tags": []
          },
          "execution_count": 137
        },
        {
          "output_type": "display_data",
          "data": {
            "image/png": "[encoded data removed]",
            "text/plain": [
              "<Figure size 432x288 with 1 Axes>"
            ]
          },
          "metadata": {
            "tags": [],
            "needs_background": "light"
          }
        }
      ]
    },
    {
      "cell_type": "code",
      "metadata": {
        "colab": {
          "base_uri": "https://localhost:8080/"
        },
        "id": "cb43087d",
        "outputId": "54beab66-b5dc-40d0-d459-d9c27a636c2e"
      },
      "source": [
        "c_1=np.cumsum(pca.explained_variance_ratio_)\n",
        "c_1"
      ],
      "id": "cb43087d",
      "execution_count": null,
      "outputs": [
        {
          "output_type": "execute_result",
          "data": {
            "text/plain": [
              "array([0.26949735, 0.39071372, 0.49423741, 0.58152498, 0.64983086,\n",
              "       0.70448364, 0.7512345 , 0.79107704, 0.82624614, 0.85781649,\n",
              "       0.88661721, 0.90996651, 0.92985892, 0.94740046, 0.9613349 ])"
            ]
          },
          "metadata": {
            "tags": []
          },
          "execution_count": 138
        }
      ]
    },
    {
      "cell_type": "code",
      "metadata": {
        "id": "wgziw-NxPx8R"
      },
      "source": [
        ""
      ],
      "id": "wgziw-NxPx8R",
      "execution_count": null,
      "outputs": []
    },
    {
      "cell_type": "markdown",
      "metadata": {
        "id": "IN6xtdouPzsP"
      },
      "source": [
        "# Feature 12"
      ],
      "id": "IN6xtdouPzsP"
    },
    {
      "cell_type": "code",
      "metadata": {
        "colab": {
          "base_uri": "https://localhost:8080/"
        },
        "id": "-iJ1F8DZP21V",
        "outputId": "9c53a50f-e503-4c4f-8c62-9fbebc0ea3b3"
      },
      "source": [
        "pca = PCA(n_components=12)\n",
        "principalComponents_anormal_12 = pca.fit_transform(X_2)\n",
        "pca.explained_variance_ratio_"
      ],
      "id": "-iJ1F8DZP21V",
      "execution_count": null,
      "outputs": [
        {
          "output_type": "execute_result",
          "data": {
            "text/plain": [
              "array([0.26949735, 0.12121636, 0.1035237 , 0.08728757, 0.06830588,\n",
              "       0.05465278, 0.04675086, 0.03984255, 0.0351691 , 0.03157035,\n",
              "       0.02880072, 0.0233493 ])"
            ]
          },
          "metadata": {
            "tags": []
          },
          "execution_count": 139
        }
      ]
    },
    {
      "cell_type": "code",
      "metadata": {
        "colab": {
          "base_uri": "https://localhost:8080/",
          "height": 295
        },
        "id": "CiqfGWUjPyFf",
        "outputId": "996521cd-e775-49d3-9c56-338125bedecc"
      },
      "source": [
        "importance = pca.explained_variance_ratio_\n",
        "plt.scatter(range(1,13),importance)\n",
        "plt.plot(range(1,13),importance)\n",
        "plt.title('Scree Plot')\n",
        "plt.xlabel('Factors')\n",
        "plt.ylabel('Eigenvalue')\n",
        "plt.grid()\n",
        "plt.show()"
      ],
      "id": "CiqfGWUjPyFf",
      "execution_count": null,
      "outputs": [
        {
          "output_type": "display_data",
          "data": {
            "image/png": "[encoded data removed]",
            "text/plain": [
              "<Figure size 432x288 with 1 Axes>"
            ]
          },
          "metadata": {
            "tags": [],
            "needs_background": "light"
          }
        }
      ]
    },
    {
      "cell_type": "code",
      "metadata": {
        "colab": {
          "base_uri": "https://localhost:8080/",
          "height": 296
        },
        "id": "jGVVXK-jPyL6",
        "outputId": "cb8bccea-efb4-4775-aa60-de14f25d34c4"
      },
      "source": [
        "plt.plot(np.cumsum(pca.explained_variance_ratio_))\n",
        "plt.xlabel('number of components')\n",
        "plt.ylabel('cumlative explained variance')"
      ],
      "id": "jGVVXK-jPyL6",
      "execution_count": null,
      "outputs": [
        {
          "output_type": "execute_result",
          "data": {
            "text/plain": [
              "Text(0, 0.5, 'cumlative explained variance')"
            ]
          },
          "metadata": {
            "tags": []
          },
          "execution_count": 141
        },
        {
          "output_type": "display_data",
          "data": {
            "image/png": "[encoded data removed]",
            "text/plain": [
              "<Figure size 432x288 with 1 Axes>"
            ]
          },
          "metadata": {
            "tags": [],
            "needs_background": "light"
          }
        }
      ]
    },
    {
      "cell_type": "code",
      "metadata": {
        "colab": {
          "base_uri": "https://localhost:8080/"
        },
        "id": "0KY7QKPTPyQP",
        "outputId": "be4e06a8-5961-40a6-d99f-e09890731108"
      },
      "source": [
        "d_1=np.cumsum(pca.explained_variance_ratio_)\n",
        "d_1"
      ],
      "id": "0KY7QKPTPyQP",
      "execution_count": null,
      "outputs": [
        {
          "output_type": "execute_result",
          "data": {
            "text/plain": [
              "array([0.26949735, 0.39071372, 0.49423741, 0.58152498, 0.64983086,\n",
              "       0.70448364, 0.7512345 , 0.79107704, 0.82624614, 0.85781649,\n",
              "       0.88661721, 0.90996651])"
            ]
          },
          "metadata": {
            "tags": []
          },
          "execution_count": 142
        }
      ]
    },
    {
      "cell_type": "code",
      "metadata": {
        "id": "e3e254c0"
      },
      "source": [
        "# 9 Feature "
      ],
      "id": "e3e254c0",
      "execution_count": null,
      "outputs": []
    },
    {
      "cell_type": "code",
      "metadata": {
        "colab": {
          "base_uri": "https://localhost:8080/"
        },
        "id": "50bf1199",
        "outputId": "bd5438ab-9902-4245-bc82-2b1608302596"
      },
      "source": [
        "pca = PCA(n_components=9)\n",
        "principalComponents_anormal_9 = pca.fit_transform(X_2)\n",
        "pca.explained_variance_ratio_"
      ],
      "id": "50bf1199",
      "execution_count": null,
      "outputs": [
        {
          "output_type": "execute_result",
          "data": {
            "text/plain": [
              "array([0.26949735, 0.12121636, 0.1035237 , 0.08728757, 0.06830588,\n",
              "       0.05465278, 0.04675086, 0.03984255, 0.0351691 ])"
            ]
          },
          "metadata": {
            "tags": []
          },
          "execution_count": 143
        }
      ]
    },
    {
      "cell_type": "code",
      "metadata": {
        "colab": {
          "base_uri": "https://localhost:8080/"
        },
        "id": "f659cc82",
        "outputId": "4057d414-2e73-4ef4-c834-acf751c1c6bf"
      },
      "source": [
        "print(principalComponents_normal_9.shape)"
      ],
      "id": "f659cc82",
      "execution_count": null,
      "outputs": [
        {
          "output_type": "stream",
          "text": [
            "(700000, 9)\n"
          ],
          "name": "stdout"
        }
      ]
    },
    {
      "cell_type": "code",
      "metadata": {
        "colab": {
          "base_uri": "https://localhost:8080/",
          "height": 295
        },
        "id": "e4aa6cc5",
        "outputId": "3ad87dd5-d714-4d48-86c5-40062dfd47bc"
      },
      "source": [
        "importance = pca.explained_variance_ratio_\n",
        "plt.scatter(range(1,10),importance)\n",
        "plt.plot(range(1,10),importance)\n",
        "plt.title('Scree Plot')\n",
        "plt.xlabel('Factors')\n",
        "plt.ylabel('Eigenvalue')\n",
        "plt.grid()\n",
        "plt.show()"
      ],
      "id": "e4aa6cc5",
      "execution_count": null,
      "outputs": [
        {
          "output_type": "display_data",
          "data": {
            "image/png": "[encoded data removed]",
            "text/plain": [
              "<Figure size 432x288 with 1 Axes>"
            ]
          },
          "metadata": {
            "tags": [],
            "needs_background": "light"
          }
        }
      ]
    },
    {
      "cell_type": "code",
      "metadata": {
        "colab": {
          "base_uri": "https://localhost:8080/",
          "height": 296
        },
        "id": "dfab76fc",
        "outputId": "370c8cd5-7822-4b8d-b005-735bfb888f5c"
      },
      "source": [
        "plt.plot(np.cumsum(pca.explained_variance_ratio_))\n",
        "plt.xlabel('number of components')\n",
        "plt.ylabel('cumlative explained variance')"
      ],
      "id": "dfab76fc",
      "execution_count": null,
      "outputs": [
        {
          "output_type": "execute_result",
          "data": {
            "text/plain": [
              "Text(0, 0.5, 'cumlative explained variance')"
            ]
          },
          "metadata": {
            "tags": []
          },
          "execution_count": 146
        },
        {
          "output_type": "display_data",
          "data": {
            "image/png": "[encoded data removed]",
            "text/plain": [
              "<Figure size 432x288 with 1 Axes>"
            ]
          },
          "metadata": {
            "tags": [],
            "needs_background": "light"
          }
        }
      ]
    },
    {
      "cell_type": "code",
      "metadata": {
        "colab": {
          "base_uri": "https://localhost:8080/"
        },
        "id": "858a38ae",
        "outputId": "3ac28710-769e-4c0c-c678-dcb7eb369324"
      },
      "source": [
        "e_1=np.cumsum(pca.explained_variance_ratio_)\n",
        "e_1"
      ],
      "id": "858a38ae",
      "execution_count": null,
      "outputs": [
        {
          "output_type": "execute_result",
          "data": {
            "text/plain": [
              "array([0.26949735, 0.39071372, 0.49423741, 0.58152498, 0.64983086,\n",
              "       0.70448364, 0.7512345 , 0.79107704, 0.82624614])"
            ]
          },
          "metadata": {
            "tags": []
          },
          "execution_count": 147
        }
      ]
    },
    {
      "cell_type": "markdown",
      "metadata": {
        "id": "2a020fc8"
      },
      "source": [
        "# PCA Dimensionality Reduciton _Anormal Data and KNN test "
      ],
      "id": "2a020fc8"
    },
    {
      "cell_type": "markdown",
      "metadata": {
        "id": "15aa8919"
      },
      "source": [
        "# 1. PCA-29 FEature Dimensionality _ANoral Dataset "
      ],
      "id": "15aa8919"
    },
    {
      "cell_type": "code",
      "metadata": {
        "id": "HFL1_ETcQ_ml"
      },
      "source": [
        ""
      ],
      "id": "HFL1_ETcQ_ml",
      "execution_count": null,
      "outputs": []
    },
    {
      "cell_type": "code",
      "metadata": {
        "id": "TEycctXyQyuj"
      },
      "source": [
        "from mlxtend.feature_selection import SequentialFeatureSelector as SFS\n",
        "from sklearn.linear_model import LinearRegression\n",
        "import pandas as pd\n",
        "import numpy as np\n",
        "import matplotlib.pyplot as plt\n",
        "import tensorflow as tf \n",
        "import sklearn\n",
        "from sklearn.decomposition import PCA\n",
        "from sklearn.preprocessing import StandardScaler\n",
        "from sklearn.neighbors import KNeighborsClassifier\n",
        "knn = KNeighborsClassifier(n_neighbors=10)"
      ],
      "id": "TEycctXyQyuj",
      "execution_count": null,
      "outputs": []
    },
    {
      "cell_type": "code",
      "metadata": {
        "id": "pGWZHocyR-6S"
      },
      "source": [
        "from sklearn.metrics import accuracy_score\n",
        "from sklearn.metrics import classification_report\n",
        "from sklearn.metrics import confusion_matrix\n",
        "import sklearn.metrics as metrics\n"
      ],
      "id": "pGWZHocyR-6S",
      "execution_count": null,
      "outputs": []
    },
    {
      "cell_type": "code",
      "metadata": {
        "id": "f24b2098"
      },
      "source": [
        "from sklearn.neighbors import KNeighborsClassifier\n",
        "knn=KNeighborsClassifier(n_neighbors=9)\n",
        "PCA_29a=principalComponents_anormal_29"
      ],
      "id": "f24b2098",
      "execution_count": null,
      "outputs": []
    },
    {
      "cell_type": "code",
      "metadata": {
        "id": "efd94f97"
      },
      "source": [
        "# Split the anoraml dataset into training_test \n",
        "from sklearn.model_selection import train_test_split\n",
        "X_29a_train, X_29a_test, y_3_train, y_3_test=train_test_split(PCA_29a, y_3, random_state=0)"
      ],
      "id": "efd94f97",
      "execution_count": null,
      "outputs": []
    },
    {
      "cell_type": "code",
      "metadata": {
        "colab": {
          "base_uri": "https://localhost:8080/"
        },
        "id": "fee9eaee",
        "outputId": "22e634f8-7e37-4ff9-e795-a4f77e0191e8"
      },
      "source": [
        "knn.fit(X_29a_train, y_3_train)"
      ],
      "id": "fee9eaee",
      "execution_count": null,
      "outputs": [
        {
          "output_type": "execute_result",
          "data": {
            "text/plain": [
              "KNeighborsClassifier(algorithm='auto', leaf_size=30, metric='minkowski',\n",
              "                     metric_params=None, n_jobs=None, n_neighbors=9, p=2,\n",
              "                     weights='uniform')"
            ]
          },
          "metadata": {
            "tags": []
          },
          "execution_count": 163
        }
      ]
    },
    {
      "cell_type": "code",
      "metadata": {
        "colab": {
          "base_uri": "https://localhost:8080/"
        },
        "id": "8256d78a",
        "outputId": "878e5fc8-2941-4bf4-cfe0-6c526d65931e"
      },
      "source": [
        "print(\"X_29a_train shape\",X_29a_train.shape )\n",
        "print(\"y_3_train shape\",y_3_train.shape )\n",
        "print(\"X_29a_test shape\",X_29a_test.shape )\n",
        "print(\"y_3_test shape\",y_3_test.shape )"
      ],
      "id": "8256d78a",
      "execution_count": null,
      "outputs": [
        {
          "output_type": "stream",
          "text": [
            "X_29a_train shape (16661, 29)\n",
            "y_3_train shape (16661, 9)\n",
            "X_29a_test shape (5554, 29)\n",
            "y_3_test shape (5554, 9)\n"
          ],
          "name": "stdout"
        }
      ]
    },
    {
      "cell_type": "code",
      "metadata": {
        "colab": {
          "base_uri": "https://localhost:8080/"
        },
        "id": "e528f255",
        "outputId": "31275692-c7c7-4a38-9788-463baa86bfd3"
      },
      "source": [
        "y_pred=knn.predict(X_29a_test)\n",
        "print(\"Test set predictions:\\n\", y_pred)\n",
        "print(\"Test score:{:.4f}\".format(np.mean(y_pred==y_3_test)))"
      ],
      "id": "e528f255",
      "execution_count": null,
      "outputs": [
        {
          "output_type": "stream",
          "text": [
            "Test set predictions:\n",
            " [[0 0 0 ... 0 0 0]\n",
            " [0 0 0 ... 0 0 0]\n",
            " [0 0 0 ... 0 0 0]\n",
            " ...\n",
            " [0 0 0 ... 0 0 0]\n",
            " [0 0 0 ... 0 0 0]\n",
            " [0 0 0 ... 0 0 0]]\n",
            "Test score:0.9529\n"
          ],
          "name": "stdout"
        }
      ]
    },
    {
      "cell_type": "code",
      "metadata": {
        "colab": {
          "base_uri": "https://localhost:8080/"
        },
        "id": "3n9-nyV7RJ7N",
        "outputId": "9d35fbc3-2f2f-4883-bc0e-464951cc9f07"
      },
      "source": [
        "print(classification_report(y_3_test, y_pred))"
      ],
      "id": "3n9-nyV7RJ7N",
      "execution_count": null,
      "outputs": [
        {
          "output_type": "stream",
          "text": [
            "              precision    recall  f1-score   support\n",
            "\n",
            "           0       0.83      0.72      0.77      1292\n",
            "           1       0.77      0.08      0.14       129\n",
            "           2       0.00      0.00      0.00       136\n",
            "           3       0.41      0.04      0.07       279\n",
            "           4       0.82      0.63      0.72      1377\n",
            "           5       0.99      0.90      0.94      1832\n",
            "           6       0.68      0.62      0.64       452\n",
            "           7       0.33      0.02      0.04        50\n",
            "           8       0.00      0.00      0.00         7\n",
            "\n",
            "   micro avg       0.87      0.67      0.76      5554\n",
            "   macro avg       0.54      0.33      0.37      5554\n",
            "weighted avg       0.82      0.67      0.73      5554\n",
            " samples avg       0.67      0.67      0.67      5554\n",
            "\n"
          ],
          "name": "stdout"
        },
        {
          "output_type": "stream",
          "text": [
            "/usr/local/lib/python3.7/dist-packages/sklearn/metrics/_classification.py:1272: UndefinedMetricWarning: Precision and F-score are ill-defined and being set to 0.0 in labels with no predicted samples. Use `zero_division` parameter to control this behavior.\n",
            "  _warn_prf(average, modifier, msg_start, len(result))\n",
            "/usr/local/lib/python3.7/dist-packages/sklearn/metrics/_classification.py:1272: UndefinedMetricWarning: Precision and F-score are ill-defined and being set to 0.0 in samples with no predicted labels. Use `zero_division` parameter to control this behavior.\n",
            "  _warn_prf(average, modifier, msg_start, len(result))\n"
          ],
          "name": "stderr"
        }
      ]
    },
    {
      "cell_type": "markdown",
      "metadata": {
        "id": "611ed63a"
      },
      "source": [
        "# 2 PCA-19 Anormal Feature "
      ],
      "id": "611ed63a"
    },
    {
      "cell_type": "code",
      "metadata": {
        "id": "cc0ed185"
      },
      "source": [
        "PCA_19a=principalComponents_anormal_19"
      ],
      "id": "cc0ed185",
      "execution_count": null,
      "outputs": []
    },
    {
      "cell_type": "code",
      "metadata": {
        "colab": {
          "base_uri": "https://localhost:8080/"
        },
        "id": "ad19cffd",
        "outputId": "90dbd858-646d-438d-eef6-3838ed6b6a38"
      },
      "source": [
        "y_3"
      ],
      "id": "ad19cffd",
      "execution_count": null,
      "outputs": [
        {
          "output_type": "execute_result",
          "data": {
            "text/plain": [
              "array([[0, 0, 0, ..., 0, 0, 0],\n",
              "       [0, 0, 0, ..., 0, 0, 0],\n",
              "       [0, 0, 0, ..., 1, 0, 0],\n",
              "       ...,\n",
              "       [1, 0, 0, ..., 0, 0, 0],\n",
              "       [1, 0, 0, ..., 0, 0, 0],\n",
              "       [1, 0, 0, ..., 0, 0, 0]])"
            ]
          },
          "metadata": {
            "tags": []
          },
          "execution_count": 181
        }
      ]
    },
    {
      "cell_type": "code",
      "metadata": {
        "id": "c8d66944"
      },
      "source": [
        "# Split the anoraml dataset into training_test \n",
        "from sklearn.model_selection import train_test_split\n",
        "X_19a_train, X_19a_test, y_3_train, y_3_test=train_test_split(PCA_19a, y_3, random_state=0)"
      ],
      "id": "c8d66944",
      "execution_count": null,
      "outputs": []
    },
    {
      "cell_type": "code",
      "metadata": {
        "colab": {
          "base_uri": "https://localhost:8080/"
        },
        "id": "e53c20e4",
        "outputId": "1cdbcb31-40f2-49fd-85a6-3234d397b208"
      },
      "source": [
        "print(\"X_19a_train shape\",X_19a_train.shape )\n",
        "print(\"y_3_train shape\",y_3_train.shape )"
      ],
      "id": "e53c20e4",
      "execution_count": null,
      "outputs": [
        {
          "output_type": "stream",
          "text": [
            "X_19a_train shape (16661, 19)\n",
            "y_3_train shape (16661, 9)\n"
          ],
          "name": "stdout"
        }
      ]
    },
    {
      "cell_type": "code",
      "metadata": {
        "colab": {
          "base_uri": "https://localhost:8080/"
        },
        "id": "7585eaa6",
        "outputId": "7e8b8d47-b351-476f-a94f-980c957251ca"
      },
      "source": [
        "print(\"X_19a_test shape\",X_19a_test.shape )\n",
        "print(\"y_3_test shape\",y_3_test.shape )"
      ],
      "id": "7585eaa6",
      "execution_count": null,
      "outputs": [
        {
          "output_type": "stream",
          "text": [
            "X_19a_test shape (5554, 19)\n",
            "y_3_test shape (5554, 9)\n"
          ],
          "name": "stdout"
        }
      ]
    },
    {
      "cell_type": "code",
      "metadata": {
        "id": "8f7f4f5b"
      },
      "source": [
        "from sklearn.neighbors import KNeighborsClassifier\n",
        "knn=KNeighborsClassifier(n_neighbors=9)"
      ],
      "id": "8f7f4f5b",
      "execution_count": null,
      "outputs": []
    },
    {
      "cell_type": "code",
      "metadata": {
        "colab": {
          "base_uri": "https://localhost:8080/"
        },
        "id": "1ec398d5",
        "outputId": "81ae29d7-80c6-459a-a27e-2f33b0fca899"
      },
      "source": [
        "knn.fit(X_19a_train, y_3_train)"
      ],
      "id": "1ec398d5",
      "execution_count": null,
      "outputs": [
        {
          "output_type": "execute_result",
          "data": {
            "text/plain": [
              "KNeighborsClassifier(algorithm='auto', leaf_size=30, metric='minkowski',\n",
              "                     metric_params=None, n_jobs=None, n_neighbors=9, p=2,\n",
              "                     weights='uniform')"
            ]
          },
          "metadata": {
            "tags": []
          },
          "execution_count": 189
        }
      ]
    },
    {
      "cell_type": "code",
      "metadata": {
        "colab": {
          "base_uri": "https://localhost:8080/"
        },
        "id": "a5fb0368",
        "outputId": "837c1d9f-5b27-43e1-f457-1388507d1f24"
      },
      "source": [
        "y_pred=knn.predict(X_19a_test)\n",
        "print(\"Test set predictions:\\n\", y_pred)"
      ],
      "id": "a5fb0368",
      "execution_count": null,
      "outputs": [
        {
          "output_type": "stream",
          "text": [
            "Test set predictions:\n",
            " [[0 0 0 ... 0 0 0]\n",
            " [0 0 0 ... 0 0 0]\n",
            " [0 0 0 ... 0 0 0]\n",
            " ...\n",
            " [0 0 0 ... 0 0 0]\n",
            " [0 0 0 ... 0 0 0]\n",
            " [0 0 0 ... 0 0 0]]\n"
          ],
          "name": "stdout"
        }
      ]
    },
    {
      "cell_type": "code",
      "metadata": {
        "colab": {
          "base_uri": "https://localhost:8080/"
        },
        "id": "5d23ccd5",
        "outputId": "83bec31d-20e7-4d31-eb37-d0149ed22ccc"
      },
      "source": [
        "print(\"Test score:{:.4f}\".format(np.mean(y_pred==y_3_test)))"
      ],
      "id": "5d23ccd5",
      "execution_count": null,
      "outputs": [
        {
          "output_type": "stream",
          "text": [
            "Test score:0.9523\n"
          ],
          "name": "stdout"
        }
      ]
    },
    {
      "cell_type": "code",
      "metadata": {
        "colab": {
          "base_uri": "https://localhost:8080/"
        },
        "id": "4NSOoFiFSaiW",
        "outputId": "d78bbec0-deb3-4864-9e38-6fa59908824f"
      },
      "source": [
        "print(classification_report(y_3_test, y_pred))"
      ],
      "id": "4NSOoFiFSaiW",
      "execution_count": null,
      "outputs": [
        {
          "output_type": "stream",
          "text": [
            "              precision    recall  f1-score   support\n",
            "\n",
            "           0       0.82      0.70      0.76      1292\n",
            "           1       0.86      0.09      0.17       129\n",
            "           2       0.00      0.00      0.00       136\n",
            "           3       0.37      0.05      0.08       279\n",
            "           4       0.82      0.64      0.72      1377\n",
            "           5       0.99      0.90      0.94      1832\n",
            "           6       0.68      0.62      0.65       452\n",
            "           7       0.00      0.00      0.00        50\n",
            "           8       0.00      0.00      0.00         7\n",
            "\n",
            "   micro avg       0.87      0.67      0.76      5554\n",
            "   macro avg       0.50      0.33      0.37      5554\n",
            "weighted avg       0.81      0.67      0.73      5554\n",
            " samples avg       0.67      0.67      0.67      5554\n",
            "\n"
          ],
          "name": "stdout"
        },
        {
          "output_type": "stream",
          "text": [
            "/usr/local/lib/python3.7/dist-packages/sklearn/metrics/_classification.py:1272: UndefinedMetricWarning: Precision and F-score are ill-defined and being set to 0.0 in labels with no predicted samples. Use `zero_division` parameter to control this behavior.\n",
            "  _warn_prf(average, modifier, msg_start, len(result))\n",
            "/usr/local/lib/python3.7/dist-packages/sklearn/metrics/_classification.py:1272: UndefinedMetricWarning: Precision and F-score are ill-defined and being set to 0.0 in samples with no predicted labels. Use `zero_division` parameter to control this behavior.\n",
            "  _warn_prf(average, modifier, msg_start, len(result))\n"
          ],
          "name": "stderr"
        }
      ]
    },
    {
      "cell_type": "markdown",
      "metadata": {
        "id": "4cd39a3c"
      },
      "source": [
        "# 3 PCA -15 FEATURE Anoraml Dataset "
      ],
      "id": "4cd39a3c"
    },
    {
      "cell_type": "code",
      "metadata": {
        "id": "04fb1456"
      },
      "source": [
        "from sklearn.neighbors import KNeighborsClassifier\n",
        "knn=KNeighborsClassifier(n_neighbors=9)\n",
        "PCA_15a=principalComponents_anormal_15"
      ],
      "id": "04fb1456",
      "execution_count": null,
      "outputs": []
    },
    {
      "cell_type": "code",
      "metadata": {
        "id": "bd9bfd1e"
      },
      "source": [
        "# Split the anoraml dataset into training_test \n",
        "from sklearn.model_selection import train_test_split\n",
        "X_15a_train, X_15a_test, y_3_train, y_3_test=train_test_split(PCA_15a, y_3, random_state=0)"
      ],
      "id": "bd9bfd1e",
      "execution_count": null,
      "outputs": []
    },
    {
      "cell_type": "code",
      "metadata": {
        "colab": {
          "base_uri": "https://localhost:8080/"
        },
        "id": "2ce191b0",
        "outputId": "df0b9744-cd68-406c-f794-91abda689b72"
      },
      "source": [
        "print(\"X_15a_train shape\",X_15a_train.shape )\n",
        "print(\"y_3_train shape\",y_3_train.shape )\n",
        "print(\"X_15a_test shape\",X_15a_test.shape )\n",
        "print(\"y_3_test shape\",y_3_test.shape )"
      ],
      "id": "2ce191b0",
      "execution_count": null,
      "outputs": [
        {
          "output_type": "stream",
          "text": [
            "X_15a_train shape (16661, 15)\n",
            "y_3_train shape (16661, 9)\n",
            "X_15a_test shape (5554, 15)\n",
            "y_3_test shape (5554, 9)\n"
          ],
          "name": "stdout"
        }
      ]
    },
    {
      "cell_type": "code",
      "metadata": {
        "colab": {
          "base_uri": "https://localhost:8080/"
        },
        "id": "972aa42d",
        "outputId": "652e1391-e197-4d86-e4d3-b7a0830aa43d"
      },
      "source": [
        "knn.fit(X_15a_train, y_3_train)"
      ],
      "id": "972aa42d",
      "execution_count": null,
      "outputs": [
        {
          "output_type": "execute_result",
          "data": {
            "text/plain": [
              "KNeighborsClassifier(algorithm='auto', leaf_size=30, metric='minkowski',\n",
              "                     metric_params=None, n_jobs=None, n_neighbors=9, p=2,\n",
              "                     weights='uniform')"
            ]
          },
          "metadata": {
            "tags": []
          },
          "execution_count": 196
        }
      ]
    },
    {
      "cell_type": "code",
      "metadata": {
        "colab": {
          "base_uri": "https://localhost:8080/"
        },
        "id": "0dcb5185",
        "outputId": "ffb5804c-28bd-465c-9e99-5d041415e7ca"
      },
      "source": [
        "y_pred=knn.predict(X_15a_test)\n",
        "print(\"Test set predictions:\\n\", y_pred)\n",
        "print(\"Test score:{:.4f}\".format(np.mean(y_pred==y_3_test)))"
      ],
      "id": "0dcb5185",
      "execution_count": null,
      "outputs": [
        {
          "output_type": "stream",
          "text": [
            "Test set predictions:\n",
            " [[0 0 0 ... 0 0 0]\n",
            " [0 0 0 ... 0 0 0]\n",
            " [0 0 0 ... 0 0 0]\n",
            " ...\n",
            " [0 0 0 ... 0 0 0]\n",
            " [0 0 0 ... 0 0 0]\n",
            " [0 0 0 ... 0 0 0]]\n",
            "Test score:0.9522\n"
          ],
          "name": "stdout"
        }
      ]
    },
    {
      "cell_type": "code",
      "metadata": {
        "colab": {
          "base_uri": "https://localhost:8080/"
        },
        "id": "OjL0At3eUHrl",
        "outputId": "d60d7ca3-d537-4e8f-9af2-3914a848e17e"
      },
      "source": [
        "print(classification_report(y_3_test, y_pred))"
      ],
      "id": "OjL0At3eUHrl",
      "execution_count": null,
      "outputs": [
        {
          "output_type": "stream",
          "text": [
            "              precision    recall  f1-score   support\n",
            "\n",
            "           0       0.83      0.69      0.75      1292\n",
            "           1       0.92      0.09      0.17       129\n",
            "           2       0.00      0.00      0.00       136\n",
            "           3       0.41      0.05      0.09       279\n",
            "           4       0.82      0.65      0.72      1377\n",
            "           5       0.98      0.90      0.94      1832\n",
            "           6       0.69      0.62      0.65       452\n",
            "           7       0.00      0.00      0.00        50\n",
            "           8       0.00      0.00      0.00         7\n",
            "\n",
            "   micro avg       0.87      0.67      0.76      5554\n",
            "   macro avg       0.52      0.33      0.37      5554\n",
            "weighted avg       0.82      0.67      0.72      5554\n",
            " samples avg       0.67      0.67      0.67      5554\n",
            "\n"
          ],
          "name": "stdout"
        },
        {
          "output_type": "stream",
          "text": [
            "/usr/local/lib/python3.7/dist-packages/sklearn/metrics/_classification.py:1272: UndefinedMetricWarning: Precision and F-score are ill-defined and being set to 0.0 in labels with no predicted samples. Use `zero_division` parameter to control this behavior.\n",
            "  _warn_prf(average, modifier, msg_start, len(result))\n",
            "/usr/local/lib/python3.7/dist-packages/sklearn/metrics/_classification.py:1272: UndefinedMetricWarning: Precision and F-score are ill-defined and being set to 0.0 in samples with no predicted labels. Use `zero_division` parameter to control this behavior.\n",
            "  _warn_prf(average, modifier, msg_start, len(result))\n"
          ],
          "name": "stderr"
        }
      ]
    },
    {
      "cell_type": "markdown",
      "metadata": {
        "id": "2oMn5EbsU3zj"
      },
      "source": [
        "#PCA 12 Features ANormal Dataset"
      ],
      "id": "2oMn5EbsU3zj"
    },
    {
      "cell_type": "code",
      "metadata": {
        "id": "a33c2097"
      },
      "source": [
        "from sklearn.neighbors import KNeighborsClassifier\n",
        "knn=KNeighborsClassifier(n_neighbors=9)\n",
        "PCA_12a=principalComponents_anormal_12"
      ],
      "id": "a33c2097",
      "execution_count": null,
      "outputs": []
    },
    {
      "cell_type": "code",
      "metadata": {
        "id": "6c0ddbbb"
      },
      "source": [
        "# Split the anoraml dataset into training_test \n",
        "from sklearn.model_selection import train_test_split\n",
        "X_12a_train, X_12a_test, y_3_train, y_3_test=train_test_split(PCA_12a, y_3, random_state=0)"
      ],
      "id": "6c0ddbbb",
      "execution_count": null,
      "outputs": []
    },
    {
      "cell_type": "code",
      "metadata": {
        "colab": {
          "base_uri": "https://localhost:8080/"
        },
        "id": "d273e827",
        "outputId": "083e3d42-1782-47fa-ee33-d157e3b92959"
      },
      "source": [
        "knn.fit(X_12a_train, y_3_train)"
      ],
      "id": "d273e827",
      "execution_count": null,
      "outputs": [
        {
          "output_type": "execute_result",
          "data": {
            "text/plain": [
              "KNeighborsClassifier(algorithm='auto', leaf_size=30, metric='minkowski',\n",
              "                     metric_params=None, n_jobs=None, n_neighbors=9, p=2,\n",
              "                     weights='uniform')"
            ]
          },
          "metadata": {
            "tags": []
          },
          "execution_count": 207
        }
      ]
    },
    {
      "cell_type": "code",
      "metadata": {
        "colab": {
          "base_uri": "https://localhost:8080/"
        },
        "id": "cd0831b0",
        "outputId": "08672336-697c-49df-f1a6-1911135622f0"
      },
      "source": [
        "y_pred=knn.predict(X_12a_test)\n",
        "print(\"Test set predictions:\\n\", y_pred)\n",
        "print(\"Test score:{:.4f}\".format(np.mean(y_pred==y_3_test)))"
      ],
      "id": "cd0831b0",
      "execution_count": null,
      "outputs": [
        {
          "output_type": "stream",
          "text": [
            "Test set predictions:\n",
            " [[0 0 0 ... 0 0 0]\n",
            " [0 0 0 ... 0 0 0]\n",
            " [0 0 0 ... 0 0 0]\n",
            " ...\n",
            " [0 0 0 ... 0 0 0]\n",
            " [0 0 0 ... 0 0 0]\n",
            " [0 0 0 ... 0 0 0]]\n",
            "Test score:0.9513\n"
          ],
          "name": "stdout"
        }
      ]
    },
    {
      "cell_type": "code",
      "metadata": {
        "colab": {
          "base_uri": "https://localhost:8080/"
        },
        "id": "CpcsWGIMVZ0u",
        "outputId": "da38a55c-b830-4a5a-89cb-e51027024b26"
      },
      "source": [
        "print(classification_report(y_3_test, y_pred))"
      ],
      "id": "CpcsWGIMVZ0u",
      "execution_count": null,
      "outputs": [
        {
          "output_type": "stream",
          "text": [
            "              precision    recall  f1-score   support\n",
            "\n",
            "           0       0.81      0.69      0.74      1292\n",
            "           1       0.77      0.08      0.14       129\n",
            "           2       0.00      0.00      0.00       136\n",
            "           3       0.38      0.05      0.09       279\n",
            "           4       0.82      0.64      0.72      1377\n",
            "           5       0.98      0.89      0.94      1832\n",
            "           6       0.69      0.59      0.63       452\n",
            "           7       0.00      0.00      0.00        50\n",
            "           8       0.00      0.00      0.00         7\n",
            "\n",
            "   micro avg       0.87      0.67      0.75      5554\n",
            "   macro avg       0.50      0.33      0.36      5554\n",
            "weighted avg       0.81      0.67      0.72      5554\n",
            " samples avg       0.67      0.67      0.67      5554\n",
            "\n"
          ],
          "name": "stdout"
        },
        {
          "output_type": "stream",
          "text": [
            "/usr/local/lib/python3.7/dist-packages/sklearn/metrics/_classification.py:1272: UndefinedMetricWarning: Precision and F-score are ill-defined and being set to 0.0 in labels with no predicted samples. Use `zero_division` parameter to control this behavior.\n",
            "  _warn_prf(average, modifier, msg_start, len(result))\n",
            "/usr/local/lib/python3.7/dist-packages/sklearn/metrics/_classification.py:1272: UndefinedMetricWarning: Precision and F-score are ill-defined and being set to 0.0 in samples with no predicted labels. Use `zero_division` parameter to control this behavior.\n",
            "  _warn_prf(average, modifier, msg_start, len(result))\n"
          ],
          "name": "stderr"
        }
      ]
    },
    {
      "cell_type": "markdown",
      "metadata": {
        "id": "3b6b570d"
      },
      "source": [
        "# 4. PCA 9 Feature Anormal dataset "
      ],
      "id": "3b6b570d"
    },
    {
      "cell_type": "code",
      "metadata": {
        "id": "69b363b5"
      },
      "source": [
        "from sklearn.neighbors import KNeighborsClassifier\n",
        "knn=KNeighborsClassifier(n_neighbors=9)\n",
        "PCA_9a=principalComponents_anormal_9"
      ],
      "id": "69b363b5",
      "execution_count": null,
      "outputs": []
    },
    {
      "cell_type": "code",
      "metadata": {
        "id": "8d0b2afd"
      },
      "source": [
        "# Split the anoraml dataset into training_test \n",
        "from sklearn.model_selection import train_test_split\n",
        "X_9a_train, X_9a_test, y_3_train, y_3_test=train_test_split(PCA_9a, y_3, random_state=0)"
      ],
      "id": "8d0b2afd",
      "execution_count": null,
      "outputs": []
    },
    {
      "cell_type": "code",
      "metadata": {
        "colab": {
          "base_uri": "https://localhost:8080/"
        },
        "id": "de3a9e18",
        "outputId": "3e96ef4a-4dcc-42d6-8b7d-9f0f2de95e3a"
      },
      "source": [
        "knn.fit(X_9a_train, y_3_train)"
      ],
      "id": "de3a9e18",
      "execution_count": null,
      "outputs": [
        {
          "output_type": "execute_result",
          "data": {
            "text/plain": [
              "KNeighborsClassifier(algorithm='auto', leaf_size=30, metric='minkowski',\n",
              "                     metric_params=None, n_jobs=None, n_neighbors=9, p=2,\n",
              "                     weights='uniform')"
            ]
          },
          "metadata": {
            "tags": []
          },
          "execution_count": 212
        }
      ]
    },
    {
      "cell_type": "code",
      "metadata": {
        "colab": {
          "base_uri": "https://localhost:8080/"
        },
        "id": "2bc252d2",
        "outputId": "cf84a1fc-e23c-4285-e388-45dabb0488bc"
      },
      "source": [
        "y_pred=knn.predict(X_9a_test)\n",
        "print(\"Test set predictions:\\n\", y_pred)\n",
        "print(\"Test score:{:.4f}\".format(np.mean(y_pred==y_3_test)))"
      ],
      "id": "2bc252d2",
      "execution_count": null,
      "outputs": [
        {
          "output_type": "stream",
          "text": [
            "Test set predictions:\n",
            " [[0 0 0 ... 0 0 0]\n",
            " [0 0 0 ... 0 0 0]\n",
            " [0 0 0 ... 0 0 0]\n",
            " ...\n",
            " [0 0 0 ... 0 0 0]\n",
            " [0 0 0 ... 0 0 0]\n",
            " [0 0 0 ... 0 0 0]]\n",
            "Test score:0.9503\n"
          ],
          "name": "stdout"
        }
      ]
    },
    {
      "cell_type": "code",
      "metadata": {
        "colab": {
          "base_uri": "https://localhost:8080/"
        },
        "id": "_lCgzNwIVh8O",
        "outputId": "e308ba6a-0df0-4790-f9b9-99cce34c9789"
      },
      "source": [
        "print(classification_report(y_3_test, y_pred))"
      ],
      "id": "_lCgzNwIVh8O",
      "execution_count": null,
      "outputs": [
        {
          "output_type": "stream",
          "text": [
            "              precision    recall  f1-score   support\n",
            "\n",
            "           0       0.79      0.67      0.73      1292\n",
            "           1       0.50      0.05      0.09       129\n",
            "           2       0.00      0.00      0.00       136\n",
            "           3       0.40      0.05      0.09       279\n",
            "           4       0.81      0.64      0.71      1377\n",
            "           5       0.98      0.90      0.94      1832\n",
            "           6       0.69      0.58      0.63       452\n",
            "           7       0.00      0.00      0.00        50\n",
            "           8       0.00      0.00      0.00         7\n",
            "\n",
            "   micro avg       0.86      0.66      0.75      5554\n",
            "   macro avg       0.46      0.32      0.35      5554\n",
            "weighted avg       0.80      0.66      0.71      5554\n",
            " samples avg       0.66      0.66      0.66      5554\n",
            "\n"
          ],
          "name": "stdout"
        },
        {
          "output_type": "stream",
          "text": [
            "/usr/local/lib/python3.7/dist-packages/sklearn/metrics/_classification.py:1272: UndefinedMetricWarning: Precision and F-score are ill-defined and being set to 0.0 in labels with no predicted samples. Use `zero_division` parameter to control this behavior.\n",
            "  _warn_prf(average, modifier, msg_start, len(result))\n",
            "/usr/local/lib/python3.7/dist-packages/sklearn/metrics/_classification.py:1272: UndefinedMetricWarning: Precision and F-score are ill-defined and being set to 0.0 in samples with no predicted labels. Use `zero_division` parameter to control this behavior.\n",
            "  _warn_prf(average, modifier, msg_start, len(result))\n"
          ],
          "name": "stderr"
        }
      ]
    },
    {
      "cell_type": "markdown",
      "metadata": {
        "id": "750d966b"
      },
      "source": [
        "# PCA Dimensionality Reduction Stack ( axis=0) Normal+Anormal"
      ],
      "id": "750d966b"
    },
    {
      "cell_type": "code",
      "metadata": {
        "id": "c8f2a1d4"
      },
      "source": [
        "# 29 Feature Stack "
      ],
      "id": "c8f2a1d4",
      "execution_count": null,
      "outputs": []
    },
    {
      "cell_type": "code",
      "metadata": {
        "id": "38faf36a"
      },
      "source": [
        "PCA_29=np.concatenate((principalComponents_normal_29, principalComponents_anormal_29 ),axis=0)"
      ],
      "id": "38faf36a",
      "execution_count": null,
      "outputs": []
    },
    {
      "cell_type": "code",
      "metadata": {
        "colab": {
          "base_uri": "https://localhost:8080/"
        },
        "id": "c0831392",
        "outputId": "14fac696-bede-4901-e71f-f4664c3cfd34"
      },
      "source": [
        "PCA_29"
      ],
      "id": "c0831392",
      "execution_count": null,
      "outputs": [
        {
          "output_type": "execute_result",
          "data": {
            "text/plain": [
              "array([[-2.11086657e+00,  1.85547879e-01, -2.50178214e-01, ...,\n",
              "        -7.09204378e-03, -4.11584263e-04, -1.00654571e-03],\n",
              "       [-1.63803611e+00, -6.83859317e-01, -5.02861060e-01, ...,\n",
              "         8.41725071e-03, -3.45003828e-04, -2.29477450e-03],\n",
              "       [-1.92929948e+00, -9.31889627e-02, -4.63615737e-01, ...,\n",
              "         6.90228512e-03, -2.14415353e-04, -1.45158064e-03],\n",
              "       ...,\n",
              "       [ 1.73269485e+00, -9.66528689e-01,  6.88435846e-02, ...,\n",
              "         6.89942634e-03, -6.85546848e-03, -1.10344119e-03],\n",
              "       [ 4.58714073e-01, -3.66405189e-01,  5.64025844e-02, ...,\n",
              "         8.41277806e-03, -6.74674663e-03, -8.61648923e-04],\n",
              "       [ 3.53662716e+00, -2.28444231e+00, -2.11015480e-01, ...,\n",
              "        -2.41484630e-03, -5.64933762e-03, -8.88427164e-04]])"
            ]
          },
          "metadata": {
            "tags": []
          },
          "execution_count": 216
        }
      ]
    },
    {
      "cell_type": "code",
      "metadata": {
        "colab": {
          "base_uri": "https://localhost:8080/"
        },
        "id": "9e69ac17",
        "outputId": "f841c786-6d8e-41a3-abeb-e2c68f773ab2"
      },
      "source": [
        "print(PCA_29.shape)"
      ],
      "id": "9e69ac17",
      "execution_count": null,
      "outputs": [
        {
          "output_type": "stream",
          "text": [
            "(722215, 29)\n"
          ],
          "name": "stdout"
        }
      ]
    },
    {
      "cell_type": "code",
      "metadata": {
        "id": "fda67314"
      },
      "source": [
        "# 19 Feature Stack "
      ],
      "id": "fda67314",
      "execution_count": null,
      "outputs": []
    },
    {
      "cell_type": "code",
      "metadata": {
        "id": "f2715af5"
      },
      "source": [
        "PCA_19=np.concatenate((principalComponents_normal_19, principalComponents_anormal_19 ),axis=0)"
      ],
      "id": "f2715af5",
      "execution_count": null,
      "outputs": []
    },
    {
      "cell_type": "code",
      "metadata": {
        "colab": {
          "base_uri": "https://localhost:8080/"
        },
        "id": "940e39c6",
        "outputId": "ad574b7d-cf53-4b00-f022-d96d30f39ec4"
      },
      "source": [
        "PCA_19"
      ],
      "id": "940e39c6",
      "execution_count": null,
      "outputs": [
        {
          "output_type": "execute_result",
          "data": {
            "text/plain": [
              "array([[-2.11086657,  0.18554788, -0.25017821, ...,  0.46115558,\n",
              "         0.07689443, -0.2665604 ],\n",
              "       [-1.63803611, -0.68385932, -0.50286106, ...,  0.27830778,\n",
              "         0.19643922, -0.40613206],\n",
              "       [-1.92929948, -0.09318896, -0.46361574, ...,  0.27048848,\n",
              "         0.17816248, -0.36004142],\n",
              "       ...,\n",
              "       [ 1.73269485, -0.96652869,  0.06884358, ...,  0.19236619,\n",
              "         0.02756408,  0.04881167],\n",
              "       [ 0.45871407, -0.36640519,  0.05640258, ...,  0.72718679,\n",
              "         0.22425884, -0.13341686],\n",
              "       [ 3.53662716, -2.28444231, -0.21101548, ..., -0.98892134,\n",
              "        -0.39603791,  0.1449    ]])"
            ]
          },
          "metadata": {
            "tags": []
          },
          "execution_count": 224
        }
      ]
    },
    {
      "cell_type": "code",
      "metadata": {
        "id": "cd3876cd"
      },
      "source": [
        "## 15 Feature Stack "
      ],
      "id": "cd3876cd",
      "execution_count": null,
      "outputs": []
    },
    {
      "cell_type": "code",
      "metadata": {
        "id": "cd72c76c"
      },
      "source": [
        "PCA_15=np.concatenate((principalComponents_normal_15, principalComponents_anormal_15 ),axis=0)"
      ],
      "id": "cd72c76c",
      "execution_count": null,
      "outputs": []
    },
    {
      "cell_type": "code",
      "metadata": {
        "id": "5a5dde1b"
      },
      "source": [
        "# 12 Feature Stack "
      ],
      "id": "5a5dde1b",
      "execution_count": null,
      "outputs": []
    },
    {
      "cell_type": "code",
      "metadata": {
        "id": "2cf81ee6"
      },
      "source": [
        "PCA_12=np.concatenate((principalComponents_normal_12, principalComponents_anormal_12 ),axis=0)"
      ],
      "id": "2cf81ee6",
      "execution_count": null,
      "outputs": []
    },
    {
      "cell_type": "code",
      "metadata": {
        "id": "8ea03c5b"
      },
      "source": [
        "## 9 Feature Stack "
      ],
      "id": "8ea03c5b",
      "execution_count": null,
      "outputs": []
    },
    {
      "cell_type": "code",
      "metadata": {
        "id": "77da6b58"
      },
      "source": [
        "PCA_9=np.concatenate((principalComponents_normal_9, principalComponents_anormal_9 ),axis=0)"
      ],
      "id": "77da6b58",
      "execution_count": null,
      "outputs": []
    },
    {
      "cell_type": "code",
      "metadata": {
        "id": "6bf6b824"
      },
      "source": [
        "# Target stack"
      ],
      "id": "6bf6b824",
      "execution_count": null,
      "outputs": []
    },
    {
      "cell_type": "code",
      "metadata": {
        "id": "ecb23f7b"
      },
      "source": [
        "y=np.concatenate((y_1,y_2),axis=0)"
      ],
      "id": "ecb23f7b",
      "execution_count": null,
      "outputs": []
    },
    {
      "cell_type": "code",
      "metadata": {
        "colab": {
          "base_uri": "https://localhost:8080/"
        },
        "id": "d135be25",
        "outputId": "63df7b1f-e09f-42e8-c6d5-ef89e80ea0e4"
      },
      "source": [
        "y"
      ],
      "id": "d135be25",
      "execution_count": null,
      "outputs": [
        {
          "output_type": "execute_result",
          "data": {
            "text/plain": [
              "array([[1, 0, 0, ..., 0, 0, 0],\n",
              "       [1, 0, 0, ..., 0, 0, 0],\n",
              "       [1, 0, 0, ..., 0, 0, 0],\n",
              "       ...,\n",
              "       [0, 1, 0, ..., 0, 0, 0],\n",
              "       [0, 1, 0, ..., 0, 0, 0],\n",
              "       [0, 1, 0, ..., 0, 0, 0]])"
            ]
          },
          "metadata": {
            "tags": []
          },
          "execution_count": 235
        }
      ]
    },
    {
      "cell_type": "markdown",
      "metadata": {
        "id": "4f075b66"
      },
      "source": [
        "# Split the reduction data into training, test"
      ],
      "id": "4f075b66"
    },
    {
      "cell_type": "code",
      "metadata": {
        "id": "d092f985"
      },
      "source": [
        "# 29 PCA Dataset split "
      ],
      "id": "d092f985",
      "execution_count": null,
      "outputs": []
    },
    {
      "cell_type": "code",
      "metadata": {
        "id": "64821553"
      },
      "source": [
        "from sklearn.model_selection import train_test_split"
      ],
      "id": "64821553",
      "execution_count": null,
      "outputs": []
    },
    {
      "cell_type": "code",
      "metadata": {
        "id": "18284b87"
      },
      "source": [
        "X_29F_train, X_29F_test, y_train, y_test=train_test_split(PCA_29,y, random_state=0)"
      ],
      "id": "18284b87",
      "execution_count": null,
      "outputs": []
    },
    {
      "cell_type": "code",
      "metadata": {
        "colab": {
          "base_uri": "https://localhost:8080/"
        },
        "id": "fa6df362",
        "outputId": "d5091260-74a5-405e-9429-c99d3bae1423"
      },
      "source": [
        "print(\"X_29F_train shape\",X_29F_train.shape )\n",
        "print(\"y_train shape\",y_train.shape )"
      ],
      "id": "fa6df362",
      "execution_count": null,
      "outputs": [
        {
          "output_type": "stream",
          "text": [
            "X_29F_train shape (541661, 29)\n",
            "y_train shape (541661, 10)\n"
          ],
          "name": "stdout"
        }
      ]
    },
    {
      "cell_type": "code",
      "metadata": {
        "colab": {
          "base_uri": "https://localhost:8080/"
        },
        "id": "e79102be",
        "outputId": "900ba94b-2503-4e9a-cd3a-9040dc96c5f2"
      },
      "source": [
        "print(\"X_29F_test shape\",X_29F_test.shape )\n",
        "print(\"y_train shape\",y_test.shape )"
      ],
      "id": "e79102be",
      "execution_count": null,
      "outputs": [
        {
          "output_type": "stream",
          "text": [
            "X_29F_test shape (180554, 29)\n",
            "y_train shape (180554, 10)\n"
          ],
          "name": "stdout"
        }
      ]
    },
    {
      "cell_type": "code",
      "metadata": {
        "colab": {
          "base_uri": "https://localhost:8080/"
        },
        "id": "9354ca59",
        "outputId": "4ce20abb-471c-4c68-ea62-64e9839e7ffe"
      },
      "source": [
        "# 19 PCA Dataset split \n",
        "X_19F_train, X_19F_test, y_train, y_test=train_test_split(PCA_19,y, random_state=0)\n",
        "print(\"X_19F_train shape\",X_19F_train.shape )\n",
        "print(\"y_train shape\",y_train.shape )\n",
        "print(\"X_19F_test shape\",X_19F_test.shape )\n",
        "print(\"y_train shape\",y_test.shape )"
      ],
      "id": "9354ca59",
      "execution_count": null,
      "outputs": [
        {
          "output_type": "stream",
          "text": [
            "X_19F_train shape (541661, 19)\n",
            "y_train shape (541661, 10)\n",
            "X_19F_test shape (180554, 19)\n",
            "y_train shape (180554, 10)\n"
          ],
          "name": "stdout"
        }
      ]
    },
    {
      "cell_type": "code",
      "metadata": {
        "colab": {
          "base_uri": "https://localhost:8080/"
        },
        "id": "ced38660",
        "outputId": "2be47e2a-90d6-4816-d12f-99cc46f8f5e4"
      },
      "source": [
        "# 15 PCA Dataset split \n",
        "X_15F_train, X_15F_test, y_train, y_test=train_test_split(PCA_15,y, random_state=0)\n",
        "print(\"X_15F_train shape\",X_15F_train.shape )\n",
        "print(\"y_train shape\",y_train.shape )\n",
        "print(\"X_15F_test shape\",X_15F_test.shape )\n",
        "print(\"y_train shape\",y_test.shape )"
      ],
      "id": "ced38660",
      "execution_count": null,
      "outputs": [
        {
          "output_type": "stream",
          "text": [
            "X_15F_train shape (541661, 15)\n",
            "y_train shape (541661, 10)\n",
            "X_15F_test shape (180554, 15)\n",
            "y_train shape (180554, 10)\n"
          ],
          "name": "stdout"
        }
      ]
    },
    {
      "cell_type": "code",
      "metadata": {
        "colab": {
          "base_uri": "https://localhost:8080/"
        },
        "id": "g2PfTIJPaFu1",
        "outputId": "2164f741-a33e-46af-806a-cae4c7d46f2e"
      },
      "source": [
        "# 12 PCA Dataset split \n",
        "X_12F_train, X_12F_test, y_train, y_test=train_test_split(PCA_12,y, random_state=42)\n",
        "print(\"X_12F_train shape\",X_12F_train.shape )\n",
        "print(\"y_train shape\",y_train.shape )\n",
        "print(\"X_12F_test shape\",X_12F_test.shape )\n",
        "print(\"y_train shape\",y_test.shape )"
      ],
      "id": "g2PfTIJPaFu1",
      "execution_count": null,
      "outputs": [
        {
          "output_type": "stream",
          "text": [
            "X_12F_train shape (541661, 12)\n",
            "y_train shape (541661, 10)\n",
            "X_12F_test shape (180554, 12)\n",
            "y_train shape (180554, 10)\n"
          ],
          "name": "stdout"
        }
      ]
    },
    {
      "cell_type": "code",
      "metadata": {
        "colab": {
          "base_uri": "https://localhost:8080/"
        },
        "id": "65665b98",
        "outputId": "f00330cc-6e8f-4931-a57e-84d46a4053c7"
      },
      "source": [
        "# 9 PCA Dataset split \n",
        "X_9F_train, X_9F_test, y_train, y_test=train_test_split(PCA_9,y, random_state=0)\n",
        "print(\"X_9F_train shape\",X_9F_train.shape )\n",
        "print(\"y_train shape\",y_train.shape )\n",
        "print(\"X_9F_test shape\",X_9F_test.shape )\n",
        "print(\"y_train shape\",y_test.shape )"
      ],
      "id": "65665b98",
      "execution_count": null,
      "outputs": [
        {
          "output_type": "stream",
          "text": [
            "X_9F_train shape (541661, 9)\n",
            "y_train shape (541661, 10)\n",
            "X_9F_test shape (180554, 9)\n",
            "y_train shape (180554, 10)\n"
          ],
          "name": "stdout"
        }
      ]
    },
    {
      "cell_type": "markdown",
      "metadata": {
        "id": "535d81a7"
      },
      "source": [
        "# Traing Model KNN"
      ],
      "id": "535d81a7"
    },
    {
      "cell_type": "code",
      "metadata": {
        "id": "d89e6a22"
      },
      "source": [
        "from sklearn.neighbors import KNeighborsClassifier\n",
        "knn=KNeighborsClassifier(n_neighbors=10)"
      ],
      "id": "d89e6a22",
      "execution_count": null,
      "outputs": []
    },
    {
      "cell_type": "markdown",
      "metadata": {
        "id": "c608fd88"
      },
      "source": [
        "# 29  Feature Concated Dataset test "
      ],
      "id": "c608fd88"
    },
    {
      "cell_type": "code",
      "metadata": {
        "colab": {
          "base_uri": "https://localhost:8080/"
        },
        "id": "5b82e9ef",
        "outputId": "6c5fe884-0a3e-4006-a944-04003abf2351"
      },
      "source": [
        "knn.fit(X_29F_train, y_train)"
      ],
      "id": "5b82e9ef",
      "execution_count": null,
      "outputs": [
        {
          "output_type": "execute_result",
          "data": {
            "text/plain": [
              "KNeighborsClassifier(algorithm='auto', leaf_size=30, metric='minkowski',\n",
              "                     metric_params=None, n_jobs=None, n_neighbors=9, p=2,\n",
              "                     weights='uniform')"
            ]
          },
          "metadata": {
            "tags": []
          },
          "execution_count": 244
        }
      ]
    },
    {
      "cell_type": "markdown",
      "metadata": {
        "id": "526d154e"
      },
      "source": [
        "# Evaluating the model "
      ],
      "id": "526d154e"
    },
    {
      "cell_type": "code",
      "metadata": {
        "colab": {
          "base_uri": "https://localhost:8080/"
        },
        "id": "e47bccbd",
        "outputId": "58da27fb-4e75-475e-bee9-e0ad540ba1a9"
      },
      "source": [
        "y_pred=knn.predict(X_29F_test)\n",
        "print(\"Test set predictions:\\n\", y_pred)"
      ],
      "id": "e47bccbd",
      "execution_count": null,
      "outputs": [
        {
          "output_type": "stream",
          "text": [
            "Test set predictions:\n",
            " [[1 0 0 ... 0 0 0]\n",
            " [1 0 0 ... 0 0 0]\n",
            " [1 0 0 ... 0 0 0]\n",
            " ...\n",
            " [1 0 0 ... 0 0 0]\n",
            " [1 0 0 ... 0 0 0]\n",
            " [1 0 0 ... 0 0 0]]\n"
          ],
          "name": "stdout"
        }
      ]
    },
    {
      "cell_type": "code",
      "metadata": {
        "id": "cca3c49c",
        "outputId": "b542e333-3f1d-42b4-9df9-f38579e04287"
      },
      "source": [
        "print(\"Test score:{:.4f}\".format(np.mean(y_pred==y_test)))"
      ],
      "id": "cca3c49c",
      "execution_count": null,
      "outputs": [
        {
          "output_type": "stream",
          "text": [
            "Test score:0.9986\n"
          ],
          "name": "stdout"
        }
      ]
    },
    {
      "cell_type": "code",
      "metadata": {
        "colab": {
          "base_uri": "https://localhost:8080/"
        },
        "id": "7U5srauCYnMP",
        "outputId": "cd97e534-16b6-4e9a-b098-3eaa8375f2d1"
      },
      "source": [
        "print(classification_report(y_test, y_pred))"
      ],
      "id": "7U5srauCYnMP",
      "execution_count": null,
      "outputs": [
        {
          "output_type": "stream",
          "text": [
            "              precision    recall  f1-score   support\n",
            "\n",
            "           0       1.00      1.00      1.00    169406\n",
            "           1       0.76      0.56      0.64      2564\n",
            "           2       0.62      0.02      0.03       281\n",
            "           3       0.00      0.00      0.00       259\n",
            "           4       0.41      0.05      0.09       555\n",
            "           5       0.81      0.61      0.70      2762\n",
            "           6       0.99      0.92      0.95      3739\n",
            "           7       0.71      0.61      0.66       863\n",
            "           8       1.00      0.03      0.05       112\n",
            "           9       0.00      0.00      0.00        13\n",
            "\n",
            "   micro avg       0.99      0.98      0.98    180554\n",
            "   macro avg       0.63      0.38      0.41    180554\n",
            "weighted avg       0.99      0.98      0.98    180554\n",
            " samples avg       0.98      0.98      0.98    180554\n",
            "\n"
          ],
          "name": "stdout"
        },
        {
          "output_type": "stream",
          "text": [
            "/usr/local/lib/python3.7/dist-packages/sklearn/metrics/_classification.py:1272: UndefinedMetricWarning: Precision and F-score are ill-defined and being set to 0.0 in labels with no predicted samples. Use `zero_division` parameter to control this behavior.\n",
            "  _warn_prf(average, modifier, msg_start, len(result))\n",
            "/usr/local/lib/python3.7/dist-packages/sklearn/metrics/_classification.py:1272: UndefinedMetricWarning: Precision and F-score are ill-defined and being set to 0.0 in samples with no predicted labels. Use `zero_division` parameter to control this behavior.\n",
            "  _warn_prf(average, modifier, msg_start, len(result))\n"
          ],
          "name": "stderr"
        }
      ]
    },
    {
      "cell_type": "markdown",
      "metadata": {
        "id": "526f7481"
      },
      "source": [
        "# 19 Feature  Concated Complete dataset"
      ],
      "id": "526f7481"
    },
    {
      "cell_type": "code",
      "metadata": {
        "colab": {
          "base_uri": "https://localhost:8080/"
        },
        "id": "fcfaf020",
        "outputId": "57670dd6-ca8b-4e1a-c251-8e3898bc76b4"
      },
      "source": [
        "knn.fit(X_19F_train, y_train)"
      ],
      "id": "fcfaf020",
      "execution_count": null,
      "outputs": [
        {
          "output_type": "execute_result",
          "data": {
            "text/plain": [
              "KNeighborsClassifier(algorithm='auto', leaf_size=30, metric='minkowski',\n",
              "                     metric_params=None, n_jobs=None, n_neighbors=9, p=2,\n",
              "                     weights='uniform')"
            ]
          },
          "metadata": {
            "tags": []
          },
          "execution_count": 247
        }
      ]
    },
    {
      "cell_type": "code",
      "metadata": {
        "colab": {
          "base_uri": "https://localhost:8080/"
        },
        "id": "2771d015",
        "outputId": "cf0ef104-b738-4b59-e309-a5c72d6dc9ca"
      },
      "source": [
        "y_pred=knn.predict(X_19F_test)\n",
        "print(\"Test set predictions:\\n\", y_pred)"
      ],
      "id": "2771d015",
      "execution_count": null,
      "outputs": [
        {
          "output_type": "stream",
          "text": [
            "Test set predictions:\n",
            " [[1 0 0 ... 0 0 0]\n",
            " [1 0 0 ... 0 0 0]\n",
            " [1 0 0 ... 0 0 0]\n",
            " ...\n",
            " [1 0 0 ... 0 0 0]\n",
            " [1 0 0 ... 0 0 0]\n",
            " [1 0 0 ... 0 0 0]]\n"
          ],
          "name": "stdout"
        }
      ]
    },
    {
      "cell_type": "code",
      "metadata": {
        "colab": {
          "base_uri": "https://localhost:8080/"
        },
        "id": "c95887aa",
        "outputId": "0b40e757-936a-4abc-d1fc-1672fa4b981d"
      },
      "source": [
        "print(\"Test score:{:.4f}\".format(np.mean(y_pred==y_test)))"
      ],
      "id": "c95887aa",
      "execution_count": null,
      "outputs": [
        {
          "output_type": "stream",
          "text": [
            "Test score:0.9967\n"
          ],
          "name": "stdout"
        }
      ]
    },
    {
      "cell_type": "code",
      "metadata": {
        "colab": {
          "base_uri": "https://localhost:8080/"
        },
        "id": "q7RVFc1XYr4K",
        "outputId": "96db6b2d-07a7-437d-d175-5beeedf7cf32"
      },
      "source": [
        "print(classification_report(y_test, y_pred))"
      ],
      "id": "q7RVFc1XYr4K",
      "execution_count": null,
      "outputs": [
        {
          "output_type": "stream",
          "text": [
            "              precision    recall  f1-score   support\n",
            "\n",
            "           0       1.00      1.00      1.00    169406\n",
            "           1       0.76      0.56      0.64      2564\n",
            "           2       0.60      0.02      0.04       281\n",
            "           3       0.00      0.00      0.00       259\n",
            "           4       0.41      0.06      0.10       555\n",
            "           5       0.81      0.62      0.70      2762\n",
            "           6       0.99      0.91      0.95      3739\n",
            "           7       0.72      0.62      0.67       863\n",
            "           8       0.75      0.03      0.05       112\n",
            "           9       0.00      0.00      0.00        13\n",
            "\n",
            "   micro avg       0.99      0.98      0.98    180554\n",
            "   macro avg       0.60      0.38      0.41    180554\n",
            "weighted avg       0.99      0.98      0.98    180554\n",
            " samples avg       0.98      0.98      0.98    180554\n",
            "\n"
          ],
          "name": "stdout"
        },
        {
          "output_type": "stream",
          "text": [
            "/usr/local/lib/python3.7/dist-packages/sklearn/metrics/_classification.py:1272: UndefinedMetricWarning: Precision and F-score are ill-defined and being set to 0.0 in labels with no predicted samples. Use `zero_division` parameter to control this behavior.\n",
            "  _warn_prf(average, modifier, msg_start, len(result))\n",
            "/usr/local/lib/python3.7/dist-packages/sklearn/metrics/_classification.py:1272: UndefinedMetricWarning: Precision and F-score are ill-defined and being set to 0.0 in samples with no predicted labels. Use `zero_division` parameter to control this behavior.\n",
            "  _warn_prf(average, modifier, msg_start, len(result))\n"
          ],
          "name": "stderr"
        }
      ]
    },
    {
      "cell_type": "markdown",
      "metadata": {
        "id": "6dad7eed"
      },
      "source": [
        "# 15 Feature Complete dataset"
      ],
      "id": "6dad7eed"
    },
    {
      "cell_type": "code",
      "metadata": {
        "colab": {
          "base_uri": "https://localhost:8080/"
        },
        "id": "5355dc4f",
        "outputId": "68355092-bb24-4059-b1e5-c114e85a696a"
      },
      "source": [
        "knn.fit(X_15F_train, y_train)"
      ],
      "id": "5355dc4f",
      "execution_count": null,
      "outputs": [
        {
          "output_type": "execute_result",
          "data": {
            "text/plain": [
              "KNeighborsClassifier(algorithm='auto', leaf_size=30, metric='minkowski',\n",
              "                     metric_params=None, n_jobs=None, n_neighbors=9, p=2,\n",
              "                     weights='uniform')"
            ]
          },
          "metadata": {
            "tags": []
          },
          "execution_count": 251
        }
      ]
    },
    {
      "cell_type": "code",
      "metadata": {
        "colab": {
          "base_uri": "https://localhost:8080/"
        },
        "id": "4585c045",
        "outputId": "25c1008b-735f-4fb8-9d56-a12826057593"
      },
      "source": [
        "y_pred=knn.predict(X_15F_test)\n",
        "print(\"Test set predictions:\\n\", y_pred)"
      ],
      "id": "4585c045",
      "execution_count": null,
      "outputs": [
        {
          "output_type": "stream",
          "text": [
            "Test set predictions:\n",
            " [[1 0 0 ... 0 0 0]\n",
            " [1 0 0 ... 0 0 0]\n",
            " [1 0 0 ... 0 0 0]\n",
            " ...\n",
            " [1 0 0 ... 0 0 0]\n",
            " [1 0 0 ... 0 0 0]\n",
            " [1 0 0 ... 0 0 0]]\n"
          ],
          "name": "stdout"
        }
      ]
    },
    {
      "cell_type": "code",
      "metadata": {
        "colab": {
          "base_uri": "https://localhost:8080/"
        },
        "id": "e40397cf",
        "outputId": "1b5bba38-0183-42af-a5c5-11cc50afa0b4"
      },
      "source": [
        "print(\"Test score:{:.4f}\".format(np.mean(y_pred==y_test)))"
      ],
      "id": "e40397cf",
      "execution_count": null,
      "outputs": [
        {
          "output_type": "stream",
          "text": [
            "Test score:0.9966\n"
          ],
          "name": "stdout"
        }
      ]
    },
    {
      "cell_type": "code",
      "metadata": {
        "colab": {
          "base_uri": "https://localhost:8080/"
        },
        "id": "XxbBqJR6X0qV",
        "outputId": "e2ab2ac4-96da-429a-d2c5-c1946b8f900f"
      },
      "source": [
        "print(classification_report(y_test, y_pred))"
      ],
      "id": "XxbBqJR6X0qV",
      "execution_count": null,
      "outputs": [
        {
          "output_type": "stream",
          "text": [
            "              precision    recall  f1-score   support\n",
            "\n",
            "           0       1.00      1.00      1.00    169406\n",
            "           1       0.73      0.54      0.62      2564\n",
            "           2       0.55      0.02      0.04       281\n",
            "           3       0.00      0.00      0.00       259\n",
            "           4       0.43      0.05      0.10       555\n",
            "           5       0.80      0.62      0.70      2762\n",
            "           6       0.98      0.91      0.94      3739\n",
            "           7       0.71      0.61      0.66       863\n",
            "           8       0.67      0.04      0.07       112\n",
            "           9       0.00      0.00      0.00        13\n",
            "\n",
            "   micro avg       0.99      0.98      0.98    180554\n",
            "   macro avg       0.59      0.38      0.41    180554\n",
            "weighted avg       0.98      0.98      0.98    180554\n",
            " samples avg       0.98      0.98      0.98    180554\n",
            "\n"
          ],
          "name": "stdout"
        },
        {
          "output_type": "stream",
          "text": [
            "/usr/local/lib/python3.7/dist-packages/sklearn/metrics/_classification.py:1272: UndefinedMetricWarning: Precision and F-score are ill-defined and being set to 0.0 in labels with no predicted samples. Use `zero_division` parameter to control this behavior.\n",
            "  _warn_prf(average, modifier, msg_start, len(result))\n",
            "/usr/local/lib/python3.7/dist-packages/sklearn/metrics/_classification.py:1272: UndefinedMetricWarning: Precision and F-score are ill-defined and being set to 0.0 in samples with no predicted labels. Use `zero_division` parameter to control this behavior.\n",
            "  _warn_prf(average, modifier, msg_start, len(result))\n"
          ],
          "name": "stderr"
        }
      ]
    },
    {
      "cell_type": "markdown",
      "metadata": {
        "id": "r92sqP0tX2Nc"
      },
      "source": [
        "# 12 Features Concated Features"
      ],
      "id": "r92sqP0tX2Nc"
    },
    {
      "cell_type": "code",
      "metadata": {
        "colab": {
          "base_uri": "https://localhost:8080/"
        },
        "id": "YeZt2axwX1O0",
        "outputId": "941804f5-38ce-4796-be3f-9b3f87adfc63"
      },
      "source": [
        "knn.fit(X_12F_train, y_train)"
      ],
      "id": "YeZt2axwX1O0",
      "execution_count": null,
      "outputs": [
        {
          "output_type": "execute_result",
          "data": {
            "text/plain": [
              "KNeighborsClassifier(algorithm='auto', leaf_size=30, metric='minkowski',\n",
              "                     metric_params=None, n_jobs=None, n_neighbors=9, p=2,\n",
              "                     weights='uniform')"
            ]
          },
          "metadata": {
            "tags": []
          },
          "execution_count": 258
        }
      ]
    },
    {
      "cell_type": "code",
      "metadata": {
        "id": "EbUSMnEcX1kp"
      },
      "source": [
        "y_pred=knn.predict(X_12F_test)"
      ],
      "id": "EbUSMnEcX1kp",
      "execution_count": null,
      "outputs": []
    },
    {
      "cell_type": "code",
      "metadata": {
        "colab": {
          "base_uri": "https://localhost:8080/"
        },
        "id": "9sdQjiT4YXk0",
        "outputId": "07c134d7-4320-4735-9a00-711d56461152"
      },
      "source": [
        "print(\"Test score:{:.4f}\".format(np.mean(y_pred==y_test)))"
      ],
      "id": "9sdQjiT4YXk0",
      "execution_count": null,
      "outputs": [
        {
          "output_type": "stream",
          "text": [
            "Test score:0.9965\n"
          ],
          "name": "stdout"
        }
      ]
    },
    {
      "cell_type": "code",
      "metadata": {
        "colab": {
          "base_uri": "https://localhost:8080/"
        },
        "id": "3ZEmhDwjYZts",
        "outputId": "93440b69-a4be-4deb-846e-dbefcd07eb14"
      },
      "source": [
        "print(classification_report(y_test, y_pred))"
      ],
      "id": "3ZEmhDwjYZts",
      "execution_count": null,
      "outputs": [
        {
          "output_type": "stream",
          "text": [
            "              precision    recall  f1-score   support\n",
            "\n",
            "           0       1.00      1.00      1.00    169349\n",
            "           1       0.72      0.55      0.62      2530\n",
            "           2       0.73      0.04      0.08       274\n",
            "           3       0.00      0.00      0.00       260\n",
            "           4       0.47      0.05      0.10       560\n",
            "           5       0.80      0.61      0.69      2771\n",
            "           6       0.97      0.90      0.93      3819\n",
            "           7       0.71      0.60      0.65       880\n",
            "           8       0.50      0.03      0.06       103\n",
            "           9       0.00      0.00      0.00         8\n",
            "\n",
            "   micro avg       0.99      0.97      0.98    180554\n",
            "   macro avg       0.59      0.38      0.41    180554\n",
            "weighted avg       0.98      0.97      0.98    180554\n",
            " samples avg       0.97      0.97      0.97    180554\n",
            "\n"
          ],
          "name": "stdout"
        },
        {
          "output_type": "stream",
          "text": [
            "/usr/local/lib/python3.7/dist-packages/sklearn/metrics/_classification.py:1272: UndefinedMetricWarning: Precision and F-score are ill-defined and being set to 0.0 in labels with no predicted samples. Use `zero_division` parameter to control this behavior.\n",
            "  _warn_prf(average, modifier, msg_start, len(result))\n",
            "/usr/local/lib/python3.7/dist-packages/sklearn/metrics/_classification.py:1272: UndefinedMetricWarning: Precision and F-score are ill-defined and being set to 0.0 in samples with no predicted labels. Use `zero_division` parameter to control this behavior.\n",
            "  _warn_prf(average, modifier, msg_start, len(result))\n"
          ],
          "name": "stderr"
        }
      ]
    },
    {
      "cell_type": "markdown",
      "metadata": {
        "id": "ee7a862d"
      },
      "source": [
        "# 9 Features Complete dataset"
      ],
      "id": "ee7a862d"
    },
    {
      "cell_type": "code",
      "metadata": {
        "colab": {
          "base_uri": "https://localhost:8080/"
        },
        "id": "8b4fe595",
        "outputId": "c5416f20-2f4b-4e51-ae35-f0146d1aa17c"
      },
      "source": [
        "knn.fit(X_9F_train, y_train)"
      ],
      "id": "8b4fe595",
      "execution_count": null,
      "outputs": [
        {
          "output_type": "execute_result",
          "data": {
            "text/plain": [
              "KNeighborsClassifier(algorithm='auto', leaf_size=30, metric='minkowski',\n",
              "                     metric_params=None, n_jobs=None, n_neighbors=9, p=2,\n",
              "                     weights='uniform')"
            ]
          },
          "metadata": {
            "tags": []
          },
          "execution_count": 262
        }
      ]
    },
    {
      "cell_type": "code",
      "metadata": {
        "colab": {
          "base_uri": "https://localhost:8080/"
        },
        "id": "6e19ce30",
        "outputId": "18fb372d-e54c-4115-de2a-5d60147f6a4f"
      },
      "source": [
        "y_pred=knn.predict(X_9F_test)\n",
        "print(\"Test set predictions:\\n\", y_pred)"
      ],
      "id": "6e19ce30",
      "execution_count": null,
      "outputs": [
        {
          "output_type": "stream",
          "text": [
            "Test set predictions:\n",
            " [[1 0 0 ... 0 0 0]\n",
            " [1 0 0 ... 0 0 0]\n",
            " [1 0 0 ... 0 0 0]\n",
            " ...\n",
            " [1 0 0 ... 0 0 0]\n",
            " [1 0 0 ... 0 0 0]\n",
            " [1 0 0 ... 0 0 0]]\n"
          ],
          "name": "stdout"
        }
      ]
    },
    {
      "cell_type": "code",
      "metadata": {
        "colab": {
          "base_uri": "https://localhost:8080/"
        },
        "id": "ee5e6acc",
        "outputId": "f503bea0-9ede-443d-d7c8-921163792cd8"
      },
      "source": [
        "print(\"Test score:{:.4f}\".format(np.mean(y_pred==y_test)))"
      ],
      "id": "ee5e6acc",
      "execution_count": null,
      "outputs": [
        {
          "output_type": "stream",
          "text": [
            "Test score:0.9876\n"
          ],
          "name": "stdout"
        }
      ]
    },
    {
      "cell_type": "code",
      "metadata": {
        "colab": {
          "base_uri": "https://localhost:8080/"
        },
        "id": "6b82a757",
        "outputId": "4ba643e6-7067-4a03-cd05-38f2fa694131"
      },
      "source": [
        "print(classification_report(y_test, y_pred))"
      ],
      "id": "6b82a757",
      "execution_count": null,
      "outputs": [
        {
          "output_type": "stream",
          "text": [
            "              precision    recall  f1-score   support\n",
            "\n",
            "           0       0.94      1.00      0.97    169349\n",
            "           1       0.00      0.00      0.00      2530\n",
            "           2       0.00      0.00      0.00       274\n",
            "           3       0.00      0.00      0.00       260\n",
            "           4       0.00      0.00      0.00       560\n",
            "           5       0.00      0.00      0.00      2771\n",
            "           6       0.00      0.00      0.00      3819\n",
            "           7       0.00      0.00      0.00       880\n",
            "           8       0.00      0.00      0.00       103\n",
            "           9       0.00      0.00      0.00         8\n",
            "\n",
            "   micro avg       0.94      0.94      0.94    180554\n",
            "   macro avg       0.09      0.10      0.10    180554\n",
            "weighted avg       0.88      0.94      0.91    180554\n",
            " samples avg       0.94      0.94      0.94    180554\n",
            "\n"
          ],
          "name": "stdout"
        },
        {
          "output_type": "stream",
          "text": [
            "/usr/local/lib/python3.7/dist-packages/sklearn/metrics/_classification.py:1272: UndefinedMetricWarning: Precision and F-score are ill-defined and being set to 0.0 in labels with no predicted samples. Use `zero_division` parameter to control this behavior.\n",
            "  _warn_prf(average, modifier, msg_start, len(result))\n",
            "/usr/local/lib/python3.7/dist-packages/sklearn/metrics/_classification.py:1272: UndefinedMetricWarning: Precision and F-score are ill-defined and being set to 0.0 in samples with no predicted labels. Use `zero_division` parameter to control this behavior.\n",
            "  _warn_prf(average, modifier, msg_start, len(result))\n"
          ],
          "name": "stderr"
        }
      ]
    }
  ]
}